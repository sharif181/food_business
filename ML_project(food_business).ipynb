{
  "nbformat": 4,
  "nbformat_minor": 0,
  "metadata": {
    "colab": {
      "name": "ML_project(food_business).ipynb",
      "provenance": [],
      "authorship_tag": "ABX9TyOuUw4aHaaQRKz89/2buZ31",
      "include_colab_link": true
    },
    "kernelspec": {
      "name": "python3",
      "display_name": "Python 3"
    },
    "language_info": {
      "name": "python"
    }
  },
  "cells": [
    {
      "cell_type": "markdown",
      "metadata": {
        "id": "view-in-github",
        "colab_type": "text"
      },
      "source": [
        "<a href=\"https://colab.research.google.com/github/sharif181/food_business/blob/main/ML_project(food_business).ipynb\" target=\"_parent\"><img src=\"https://colab.research.google.com/assets/colab-badge.svg\" alt=\"Open In Colab\"/></a>"
      ]
    },
    {
      "cell_type": "markdown",
      "metadata": {
        "id": "oZTXKOOCSaM5"
      },
      "source": [
        "Topic name: Food business analysis and prediction using Machine Learning.\n",
        "\n",
        "Members info:\n",
        "\n",
        "1. Md Sharif khan      ID: 181-15-2002\n",
        "2. Md Jahid Hasan      ID: 181-15-1905\n",
        "3. Md Masidul Hasan    ID: 181-15-1947"
      ]
    },
    {
      "cell_type": "markdown",
      "metadata": {
        "id": "uW6qK8f-Sdoh"
      },
      "source": [
        "#***Importing libary and Mounting***"
      ]
    },
    {
      "cell_type": "code",
      "metadata": {
        "colab": {
          "base_uri": "https://localhost:8080/"
        },
        "id": "un7goD1yOolb",
        "outputId": "7a3a0793-890e-43d0-b57c-6b1502aa6bbe"
      },
      "source": [
        "import pandas as pd\n",
        "from google.colab import drive\n",
        "drive.mount('/content/gdrive')"
      ],
      "execution_count": 2,
      "outputs": [
        {
          "output_type": "stream",
          "text": [
            "Mounted at /content/gdrive\n"
          ],
          "name": "stdout"
        }
      ]
    },
    {
      "cell_type": "markdown",
      "metadata": {
        "id": "sCJ1PkA0Snv2"
      },
      "source": [
        "#**Import Data and test**"
      ]
    },
    {
      "cell_type": "code",
      "metadata": {
        "colab": {
          "base_uri": "https://localhost:8080/"
        },
        "id": "Yo7ai-esSgfZ",
        "outputId": "e88afdbb-f0d2-4983-bcfd-60ade4c3884d"
      },
      "source": [
        "df = pd.read_csv(\"/content/gdrive/MyDrive/Colab Notebooks/ML-Project/fooddata.csv\")\n",
        "print(df.head())"
      ],
      "execution_count": 3,
      "outputs": [
        {
          "output_type": "stream",
          "text": [
            "     Age Gender  ... Cost_rest_month                 Food_type\n",
            "0  16-30   Male  ...        501-1000  Traditional bengali food\n",
            "1  16-30   Male  ...           1-500  Traditional bengali food\n",
            "2  16-30   Male  ...           1-500                 Fast food\n",
            "3  16-30   Male  ...           1-500  Traditional bengali food\n",
            "4  16-30   Male  ...           1-500                 Fast food\n",
            "\n",
            "[5 rows x 19 columns]\n"
          ],
          "name": "stdout"
        }
      ]
    },
    {
      "cell_type": "markdown",
      "metadata": {
        "id": "wBTP5zNvSm1_"
      },
      "source": [
        "#**Print columns name**"
      ]
    },
    {
      "cell_type": "code",
      "metadata": {
        "colab": {
          "base_uri": "https://localhost:8080/"
        },
        "id": "TR3kMVVhS5YR",
        "outputId": "a7a60153-857f-40fc-c0ca-82e8e3c67adc"
      },
      "source": [
        "df.columns"
      ],
      "execution_count": 4,
      "outputs": [
        {
          "output_type": "execute_result",
          "data": {
            "text/plain": [
              "Index(['Age', 'Gender', 'Marital_status', 'Division', 'Home_town',\n",
              "       'Living_Town', 'Is_urban', 'Work', 'Income',\n",
              "       'take_food_from_restuarent_month', 'Order_food_from_online_month',\n",
              "       'Spicy', 'Sweet', 'Preferable_price_BDT', 'New_recipe', 'Street_food',\n",
              "       'Restuarent_food', 'Cost_rest_month', 'Food_type'],\n",
              "      dtype='object')"
            ]
          },
          "metadata": {
            "tags": []
          },
          "execution_count": 4
        }
      ]
    },
    {
      "cell_type": "code",
      "metadata": {
        "colab": {
          "base_uri": "https://localhost:8080/"
        },
        "id": "zNsXImixS8Do",
        "outputId": "0a6b2cbe-c818-4f63-8f23-4087543d3a50"
      },
      "source": [
        "df.shape"
      ],
      "execution_count": 5,
      "outputs": [
        {
          "output_type": "execute_result",
          "data": {
            "text/plain": [
              "(422, 19)"
            ]
          },
          "metadata": {
            "tags": []
          },
          "execution_count": 5
        }
      ]
    },
    {
      "cell_type": "code",
      "metadata": {
        "colab": {
          "base_uri": "https://localhost:8080/"
        },
        "id": "ZwptbAhATCEJ",
        "outputId": "a8d04400-47c1-4a74-be0d-d78533abdb81"
      },
      "source": [
        "df.info()"
      ],
      "execution_count": 6,
      "outputs": [
        {
          "output_type": "stream",
          "text": [
            "<class 'pandas.core.frame.DataFrame'>\n",
            "RangeIndex: 422 entries, 0 to 421\n",
            "Data columns (total 19 columns):\n",
            " #   Column                           Non-Null Count  Dtype \n",
            "---  ------                           --------------  ----- \n",
            " 0   Age                              422 non-null    object\n",
            " 1   Gender                           422 non-null    object\n",
            " 2   Marital_status                   422 non-null    object\n",
            " 3   Division                         422 non-null    object\n",
            " 4   Home_town                        422 non-null    object\n",
            " 5   Living_Town                      422 non-null    object\n",
            " 6   Is_urban                         422 non-null    object\n",
            " 7   Work                             422 non-null    object\n",
            " 8   Income                           422 non-null    object\n",
            " 9   take_food_from_restuarent_month  422 non-null    object\n",
            " 10  Order_food_from_online_month     422 non-null    object\n",
            " 11  Spicy                            422 non-null    int64 \n",
            " 12  Sweet                            422 non-null    int64 \n",
            " 13  Preferable_price_BDT             422 non-null    object\n",
            " 14  New_recipe                       422 non-null    object\n",
            " 15  Street_food                      422 non-null    int64 \n",
            " 16  Restuarent_food                  422 non-null    int64 \n",
            " 17  Cost_rest_month                  422 non-null    object\n",
            " 18  Food_type                        422 non-null    object\n",
            "dtypes: int64(4), object(15)\n",
            "memory usage: 62.8+ KB\n"
          ],
          "name": "stdout"
        }
      ]
    },
    {
      "cell_type": "code",
      "metadata": {
        "colab": {
          "base_uri": "https://localhost:8080/"
        },
        "id": "iwS1NFGvTD2A",
        "outputId": "7c27e020-6541-454a-fdbb-dbe4976644d5"
      },
      "source": [
        "df.isnull().sum()"
      ],
      "execution_count": 7,
      "outputs": [
        {
          "output_type": "execute_result",
          "data": {
            "text/plain": [
              "Age                                0\n",
              "Gender                             0\n",
              "Marital_status                     0\n",
              "Division                           0\n",
              "Home_town                          0\n",
              "Living_Town                        0\n",
              "Is_urban                           0\n",
              "Work                               0\n",
              "Income                             0\n",
              "take_food_from_restuarent_month    0\n",
              "Order_food_from_online_month       0\n",
              "Spicy                              0\n",
              "Sweet                              0\n",
              "Preferable_price_BDT               0\n",
              "New_recipe                         0\n",
              "Street_food                        0\n",
              "Restuarent_food                    0\n",
              "Cost_rest_month                    0\n",
              "Food_type                          0\n",
              "dtype: int64"
            ]
          },
          "metadata": {
            "tags": []
          },
          "execution_count": 7
        }
      ]
    },
    {
      "cell_type": "markdown",
      "metadata": {
        "id": "62Q173Q4TPTX"
      },
      "source": [
        "#**Cleaning**"
      ]
    },
    {
      "cell_type": "code",
      "metadata": {
        "id": "2jZ6xzQOTHuI"
      },
      "source": [
        "mdf = [df]"
      ],
      "execution_count": 8,
      "outputs": []
    },
    {
      "cell_type": "code",
      "metadata": {
        "id": "7PTK6HyUTOT4"
      },
      "source": [
        "for dataset in mdf:\n",
        "  dataset[\"Age\"] = dataset[\"Age\"].replace(\"0-15\",0)\n",
        "  dataset[\"Age\"] = dataset[\"Age\"].replace(\"16-30\",1)\n",
        "  dataset[\"Age\"] = dataset[\"Age\"].replace(\"31-45\",2)\n",
        "  dataset[\"Age\"] = dataset[\"Age\"].replace(\"45+\",3)"
      ],
      "execution_count": 9,
      "outputs": []
    },
    {
      "cell_type": "code",
      "metadata": {
        "id": "kMh9y4GXTTaY"
      },
      "source": [
        "gender_map = {\"Male\":0,\"Female\":1,\"Other\":2}\n",
        "for data in mdf:\n",
        "  data['Gender'] = data['Gender'].map(gender_map)"
      ],
      "execution_count": 10,
      "outputs": []
    },
    {
      "cell_type": "code",
      "metadata": {
        "id": "A37nt2iQTVWw"
      },
      "source": [
        "marrital_status_map = {\"Married\":0,\"Unmarried\":1}\n",
        "for data in mdf:\n",
        "  data['Marital_status'] = data['Marital_status'].map(marrital_status_map)"
      ],
      "execution_count": 11,
      "outputs": []
    },
    {
      "cell_type": "code",
      "metadata": {
        "id": "KxMs4jXvTXB4"
      },
      "source": [
        "division_map = {\"Barisal\":0,\"Chittagong\":1,\"Dhaka\":2,\"Khulna\":3,\"Mymensingh\":4,\"Rajshahi\":5,\"Sylhet\":6,\"Rangpur\":7}\n",
        "for data in mdf:\n",
        "  data['Division'] = data['Division'].map(division_map)"
      ],
      "execution_count": 12,
      "outputs": []
    },
    {
      "cell_type": "code",
      "metadata": {
        "id": "5BfQK2xATYwA"
      },
      "source": [
        "home_town_map={\"Bagerhat\":0,\"Bandarban\":1,\"Barguna\":2,\"Barishal\":3,\"Bhola\":4,\"Bogura\":5,\"Brahmanbaria\":6,\"Chandpur\":7,\n",
        "               \"Chapai Nawabganj\":8,\"Chattogram\":9,\"Chuadanga\":10,\"Cox's Bazar\":11,\"Cumilla\":12,\"Dhaka\":13,\"Dinajpur\":14,\n",
        "               \"Faridpur\":15,\"Feni\":16,\"Gaibandha\":17,\"Gazipur\":18,\"Gopalganj\":19,\"Habiganj\":20,\"Jamalpur\":21,\n",
        "               \"Jashore\":22,\"Jhalakathi\":23,\"Jhenaidah\":24,\"Joypurhat\":25,\"Khagrachhari\":26,\"Khulna\":27,\"Kishoreganj\":28,\n",
        "               \"Kurigram\":29,\"Kushtia\":30,\"Lakshmipur\":31,\"Lalmonirhat\":32,\"Madaripur\":33,\"Magura\":34,\"Manikganj\":35,\n",
        "               \"Meherpur\":36,\"Moulvibazar\":37,\"Munshiganj\":38,\"Mymensingh\":39,\"Naogaon\":40,\"Narail\":41,\"Narayanganj\":42,\n",
        "               \"Narsingdi\":43,\"Natore\":44,\"Netrakona\":45,\"Nilphamari\":46,\"Noakhali\":47,\"Pabna\":48,\"Panchagarh\":49,\"Patuakhali\":50,\n",
        "               \"Pirojpur\":51,\"Rajbari\":52,\"Rajshahi\":53,\"Rangamati\":54,\"Rangpur\":55,\"Satkhira\":56,\"Shariatpur\":57,\"Sherpur\":58,\n",
        "               \"Sirajganj\":59,\"Sunamganj\":60,\"Sylhet\":61,\"Tangail\":62,\"Thakurgaon\":63}\n",
        "for data in mdf:\n",
        "  data['Home_town'] = data['Home_town'].map(home_town_map)"
      ],
      "execution_count": 13,
      "outputs": []
    },
    {
      "cell_type": "code",
      "metadata": {
        "id": "8iEO6gZ3UBno"
      },
      "source": [
        "living_town_map={\"Bagerhat\":0,\"Bandarban\":1,\"Barguna\":2,\"Barishal\":3,\"Bhola\":4,\"Bogura\":5,\"Brahmanbaria\":6,\"Chandpur\":7,\n",
        "               \"Chapai Nawabganj\":8,\"Chattogram\":9,\"Chuadanga\":10,\"Cox's Bazar\":11,\"Cumilla\":12,\"Dhaka\":13,\"Dinajpur\":14,\n",
        "               \"Faridpur\":15,\"Feni\":16,\"Gaibandha\":17,\"Gazipur\":18,\"Gopalganj\":19,\"Habiganj\":20,\"Jamalpur\":21,\n",
        "               \"Jashore\":22,\"Jhalakathi\":23,\"Jhenaidah\":24,\"Joypurhat\":25,\"Khagrachhari\":26,\"Khulna\":27,\"Kishoreganj\":28,\n",
        "               \"Kurigram\":29,\"Kushtia\":30,\"Lakshmipur\":31,\"Lalmonirhat\":32,\"Madaripur\":33,\"Magura\":34,\"Manikganj\":35,\n",
        "               \"Meherpur\":36,\"Moulvibazar\":37,\"Munshiganj\":38,\"Mymensingh\":39,\"Naogaon\":40,\"Narail\":41,\"Narayanganj\":42,\n",
        "               \"Narsingdi\":43,\"Natore\":44,\"Netrakona\":45,\"Nilphamari\":46,\"Noakhali\":47,\"Pabna\":48,\"Panchagarh\":49,\"Patuakhali\":50,\n",
        "               \"Pirojpur\":51,\"Rajbari\":52,\"Rajshahi\":53,\"Rangamati\":54,\"Rangpur\":55,\"Satkhira\":56,\"Shariatpur\":57,\"Sherpur\":58,\n",
        "               \"Sirajganj\":59,\"Sunamganj\":60,\"Sylhet\":61,\"Tangail\":62,\"Thakurgaon\":63}\n",
        "for data in mdf:\n",
        "  data['Living_Town'] = data['Living_Town'].map(living_town_map)"
      ],
      "execution_count": 14,
      "outputs": []
    },
    {
      "cell_type": "code",
      "metadata": {
        "id": "rNS9kPbKUDuY"
      },
      "source": [
        "urban_map = {\"Yes\":1,\"No\":2}\n",
        "for data in mdf:\n",
        "  data['Is_urban'] = data['Is_urban'].map(urban_map)"
      ],
      "execution_count": 15,
      "outputs": []
    },
    {
      "cell_type": "code",
      "metadata": {
        "id": "EH0LKCBRUbrf"
      },
      "source": [
        "work_map = {\"Private Job\":1,\"Govt. Job\":2,\"Business\":3,\"Student\":4,\"None\":5}\n",
        "for data in mdf:\n",
        "  data['Work'] = data['Work'].map(work_map)"
      ],
      "execution_count": 16,
      "outputs": []
    },
    {
      "cell_type": "code",
      "metadata": {
        "id": "Uc_fHifrUFsg"
      },
      "source": [
        "for dataset in mdf:\n",
        "  dataset[\"Income\"] = dataset[\"Income\"].replace(\"0\",0)\n",
        "  dataset[\"Income\"] = dataset[\"Income\"].replace(\"1-10000\",1)\n",
        "  dataset[\"Income\"] = dataset[\"Income\"].replace(\"10001-20000\",2)\n",
        "  dataset[\"Income\"] = dataset[\"Income\"].replace(\"20001-30000\",3)\n",
        "  dataset[\"Income\"] = dataset[\"Income\"].replace(\"30000+\",4)"
      ],
      "execution_count": 17,
      "outputs": []
    },
    {
      "cell_type": "code",
      "metadata": {
        "colab": {
          "base_uri": "https://localhost:8080/"
        },
        "id": "ZnXkRArDUHTY",
        "outputId": "fd5b89e7-0808-4b4f-8023-27462dca05a9"
      },
      "source": [
        "p_data = list(df['take_food_from_restuarent_month'].unique())\n",
        "print(p_data)\n",
        "for i,j in enumerate(p_data):\n",
        "  df['take_food_from_restuarent_month'] = df['take_food_from_restuarent_month'].replace(j,i)"
      ],
      "execution_count": 18,
      "outputs": [
        {
          "output_type": "stream",
          "text": [
            "['1-5', '0', '6-10', '15+', '11-15']\n"
          ],
          "name": "stdout"
        }
      ]
    },
    {
      "cell_type": "code",
      "metadata": {
        "colab": {
          "base_uri": "https://localhost:8080/"
        },
        "id": "so2rrSoHUJdQ",
        "outputId": "d51e5490-99a6-4eb6-a667-1da92728e61d"
      },
      "source": [
        "p_data = list(df['Order_food_from_online_month'].unique())\n",
        "print(p_data)\n",
        "for i,j in enumerate(p_data):\n",
        "  df['Order_food_from_online_month'] = df['Order_food_from_online_month'].replace(j,i)"
      ],
      "execution_count": 19,
      "outputs": [
        {
          "output_type": "stream",
          "text": [
            "['1-5', '0', '6-10', '15+', '11-15']\n"
          ],
          "name": "stdout"
        }
      ]
    },
    {
      "cell_type": "code",
      "metadata": {
        "colab": {
          "base_uri": "https://localhost:8080/"
        },
        "id": "Z74cU2HKUMCQ",
        "outputId": "9acaf70f-02d2-46f6-ec53-8f7b63c63a74"
      },
      "source": [
        "p_data = list(df['Preferable_price_BDT'].unique())\n",
        "print(p_data)\n",
        "for i,j in enumerate(p_data):\n",
        "  df['Preferable_price_BDT'] = df['Preferable_price_BDT'].replace(j,i)"
      ],
      "execution_count": 20,
      "outputs": [
        {
          "output_type": "stream",
          "text": [
            "['101-200', '1-50', '51-100', '201-400', '501+', '401-500']\n"
          ],
          "name": "stdout"
        }
      ]
    },
    {
      "cell_type": "code",
      "metadata": {
        "id": "r-mVT6OUUOfQ"
      },
      "source": [
        "recipe_map = {\"Yes\":1,\"No\":2}\n",
        "for data in mdf:\n",
        "  data['New_recipe'] = data['New_recipe'].map(recipe_map)"
      ],
      "execution_count": 21,
      "outputs": []
    },
    {
      "cell_type": "code",
      "metadata": {
        "id": "eg8h7d5UUQrA"
      },
      "source": [
        "for dataset in mdf:\n",
        "  dataset[\"Cost_rest_month\"] = dataset[\"Cost_rest_month\"].replace(\"0\",0)\n",
        "  dataset[\"Cost_rest_month\"] = dataset[\"Cost_rest_month\"].replace(\"1-500\",1)\n",
        "  dataset[\"Cost_rest_month\"] = dataset[\"Cost_rest_month\"].replace(\"501-1000\",2)\n",
        "  dataset[\"Cost_rest_month\"] = dataset[\"Cost_rest_month\"].replace(\"1000+\",3)"
      ],
      "execution_count": 22,
      "outputs": []
    },
    {
      "cell_type": "code",
      "metadata": {
        "id": "FAUH6Sy0USnB"
      },
      "source": [
        "food_map = {\"Fast food\":1,\"Traditional bengali food\":2,\"Others\":3}\n",
        "for data in mdf:\n",
        "  data['Food_type'] = data['Food_type'].map(food_map)"
      ],
      "execution_count": 23,
      "outputs": []
    },
    {
      "cell_type": "code",
      "metadata": {
        "colab": {
          "base_uri": "https://localhost:8080/"
        },
        "id": "eT6YllNIUURH",
        "outputId": "2188002b-7664-419a-eb33-6121caee34eb"
      },
      "source": [
        "df.info()"
      ],
      "execution_count": 24,
      "outputs": [
        {
          "output_type": "stream",
          "text": [
            "<class 'pandas.core.frame.DataFrame'>\n",
            "RangeIndex: 422 entries, 0 to 421\n",
            "Data columns (total 19 columns):\n",
            " #   Column                           Non-Null Count  Dtype\n",
            "---  ------                           --------------  -----\n",
            " 0   Age                              422 non-null    int64\n",
            " 1   Gender                           422 non-null    int64\n",
            " 2   Marital_status                   422 non-null    int64\n",
            " 3   Division                         422 non-null    int64\n",
            " 4   Home_town                        422 non-null    int64\n",
            " 5   Living_Town                      422 non-null    int64\n",
            " 6   Is_urban                         422 non-null    int64\n",
            " 7   Work                             422 non-null    int64\n",
            " 8   Income                           422 non-null    int64\n",
            " 9   take_food_from_restuarent_month  422 non-null    int64\n",
            " 10  Order_food_from_online_month     422 non-null    int64\n",
            " 11  Spicy                            422 non-null    int64\n",
            " 12  Sweet                            422 non-null    int64\n",
            " 13  Preferable_price_BDT             422 non-null    int64\n",
            " 14  New_recipe                       422 non-null    int64\n",
            " 15  Street_food                      422 non-null    int64\n",
            " 16  Restuarent_food                  422 non-null    int64\n",
            " 17  Cost_rest_month                  422 non-null    int64\n",
            " 18  Food_type                        422 non-null    int64\n",
            "dtypes: int64(19)\n",
            "memory usage: 62.8 KB\n"
          ],
          "name": "stdout"
        }
      ]
    },
    {
      "cell_type": "code",
      "metadata": {
        "colab": {
          "base_uri": "https://localhost:8080/",
          "height": 224
        },
        "id": "rP-S_rHtUVl4",
        "outputId": "b034ca03-654b-49e5-e131-5118c0c8c0ae"
      },
      "source": [
        "df.head()"
      ],
      "execution_count": 25,
      "outputs": [
        {
          "output_type": "execute_result",
          "data": {
            "text/html": [
              "<div>\n",
              "<style scoped>\n",
              "    .dataframe tbody tr th:only-of-type {\n",
              "        vertical-align: middle;\n",
              "    }\n",
              "\n",
              "    .dataframe tbody tr th {\n",
              "        vertical-align: top;\n",
              "    }\n",
              "\n",
              "    .dataframe thead th {\n",
              "        text-align: right;\n",
              "    }\n",
              "</style>\n",
              "<table border=\"1\" class=\"dataframe\">\n",
              "  <thead>\n",
              "    <tr style=\"text-align: right;\">\n",
              "      <th></th>\n",
              "      <th>Age</th>\n",
              "      <th>Gender</th>\n",
              "      <th>Marital_status</th>\n",
              "      <th>Division</th>\n",
              "      <th>Home_town</th>\n",
              "      <th>Living_Town</th>\n",
              "      <th>Is_urban</th>\n",
              "      <th>Work</th>\n",
              "      <th>Income</th>\n",
              "      <th>take_food_from_restuarent_month</th>\n",
              "      <th>Order_food_from_online_month</th>\n",
              "      <th>Spicy</th>\n",
              "      <th>Sweet</th>\n",
              "      <th>Preferable_price_BDT</th>\n",
              "      <th>New_recipe</th>\n",
              "      <th>Street_food</th>\n",
              "      <th>Restuarent_food</th>\n",
              "      <th>Cost_rest_month</th>\n",
              "      <th>Food_type</th>\n",
              "    </tr>\n",
              "  </thead>\n",
              "  <tbody>\n",
              "    <tr>\n",
              "      <th>0</th>\n",
              "      <td>1</td>\n",
              "      <td>0</td>\n",
              "      <td>1</td>\n",
              "      <td>2</td>\n",
              "      <td>55</td>\n",
              "      <td>13</td>\n",
              "      <td>1</td>\n",
              "      <td>1</td>\n",
              "      <td>4</td>\n",
              "      <td>0</td>\n",
              "      <td>0</td>\n",
              "      <td>4</td>\n",
              "      <td>3</td>\n",
              "      <td>0</td>\n",
              "      <td>1</td>\n",
              "      <td>4</td>\n",
              "      <td>3</td>\n",
              "      <td>2</td>\n",
              "      <td>2</td>\n",
              "    </tr>\n",
              "    <tr>\n",
              "      <th>1</th>\n",
              "      <td>1</td>\n",
              "      <td>0</td>\n",
              "      <td>1</td>\n",
              "      <td>5</td>\n",
              "      <td>59</td>\n",
              "      <td>13</td>\n",
              "      <td>2</td>\n",
              "      <td>4</td>\n",
              "      <td>1</td>\n",
              "      <td>1</td>\n",
              "      <td>1</td>\n",
              "      <td>4</td>\n",
              "      <td>5</td>\n",
              "      <td>0</td>\n",
              "      <td>1</td>\n",
              "      <td>5</td>\n",
              "      <td>4</td>\n",
              "      <td>1</td>\n",
              "      <td>2</td>\n",
              "    </tr>\n",
              "    <tr>\n",
              "      <th>2</th>\n",
              "      <td>1</td>\n",
              "      <td>0</td>\n",
              "      <td>1</td>\n",
              "      <td>5</td>\n",
              "      <td>26</td>\n",
              "      <td>13</td>\n",
              "      <td>1</td>\n",
              "      <td>4</td>\n",
              "      <td>0</td>\n",
              "      <td>0</td>\n",
              "      <td>1</td>\n",
              "      <td>5</td>\n",
              "      <td>5</td>\n",
              "      <td>1</td>\n",
              "      <td>1</td>\n",
              "      <td>5</td>\n",
              "      <td>5</td>\n",
              "      <td>1</td>\n",
              "      <td>1</td>\n",
              "    </tr>\n",
              "    <tr>\n",
              "      <th>3</th>\n",
              "      <td>1</td>\n",
              "      <td>0</td>\n",
              "      <td>0</td>\n",
              "      <td>3</td>\n",
              "      <td>34</td>\n",
              "      <td>13</td>\n",
              "      <td>1</td>\n",
              "      <td>4</td>\n",
              "      <td>0</td>\n",
              "      <td>0</td>\n",
              "      <td>1</td>\n",
              "      <td>2</td>\n",
              "      <td>4</td>\n",
              "      <td>2</td>\n",
              "      <td>1</td>\n",
              "      <td>4</td>\n",
              "      <td>3</td>\n",
              "      <td>1</td>\n",
              "      <td>2</td>\n",
              "    </tr>\n",
              "    <tr>\n",
              "      <th>4</th>\n",
              "      <td>1</td>\n",
              "      <td>0</td>\n",
              "      <td>0</td>\n",
              "      <td>2</td>\n",
              "      <td>8</td>\n",
              "      <td>13</td>\n",
              "      <td>1</td>\n",
              "      <td>4</td>\n",
              "      <td>1</td>\n",
              "      <td>2</td>\n",
              "      <td>2</td>\n",
              "      <td>5</td>\n",
              "      <td>2</td>\n",
              "      <td>2</td>\n",
              "      <td>2</td>\n",
              "      <td>4</td>\n",
              "      <td>2</td>\n",
              "      <td>1</td>\n",
              "      <td>1</td>\n",
              "    </tr>\n",
              "  </tbody>\n",
              "</table>\n",
              "</div>"
            ],
            "text/plain": [
              "   Age  Gender  Marital_status  ...  Restuarent_food  Cost_rest_month  Food_type\n",
              "0    1       0               1  ...                3                2          2\n",
              "1    1       0               1  ...                4                1          2\n",
              "2    1       0               1  ...                5                1          1\n",
              "3    1       0               0  ...                3                1          2\n",
              "4    1       0               0  ...                2                1          1\n",
              "\n",
              "[5 rows x 19 columns]"
            ]
          },
          "metadata": {
            "tags": []
          },
          "execution_count": 25
        }
      ]
    },
    {
      "cell_type": "markdown",
      "metadata": {
        "id": "Ta-8U_8VYGFQ"
      },
      "source": [
        "#**Visualization**"
      ]
    },
    {
      "cell_type": "code",
      "metadata": {
        "id": "wA0C741GXmFE"
      },
      "source": [
        "import matplotlib.pyplot as plt\n",
        "%matplotlib inline"
      ],
      "execution_count": 26,
      "outputs": []
    },
    {
      "cell_type": "code",
      "metadata": {
        "id": "8wTLcywzYISg"
      },
      "source": [
        "def bar_chart(feature):\n",
        "    Fast_food = df[df['Food_type']==1][feature].value_counts()\n",
        "    TBF = df[df['Food_type']==2][feature].value_counts()\n",
        "    others = df[df['Food_type']==3][feature].value_counts()\n",
        "    dff = pd.DataFrame([Fast_food,TBF,others])\n",
        "    dff.index = ['Fast food','TBF','Others']\n",
        "    dff.plot(kind='bar',stacked=True, figsize=(10,5))"
      ],
      "execution_count": 27,
      "outputs": []
    },
    {
      "cell_type": "code",
      "metadata": {
        "colab": {
          "base_uri": "https://localhost:8080/"
        },
        "id": "aNeXm35DYKLP",
        "outputId": "bbeb4fd0-6c24-4d29-9ec4-064dd93ec1c3"
      },
      "source": [
        "df.columns"
      ],
      "execution_count": 28,
      "outputs": [
        {
          "output_type": "execute_result",
          "data": {
            "text/plain": [
              "Index(['Age', 'Gender', 'Marital_status', 'Division', 'Home_town',\n",
              "       'Living_Town', 'Is_urban', 'Work', 'Income',\n",
              "       'take_food_from_restuarent_month', 'Order_food_from_online_month',\n",
              "       'Spicy', 'Sweet', 'Preferable_price_BDT', 'New_recipe', 'Street_food',\n",
              "       'Restuarent_food', 'Cost_rest_month', 'Food_type'],\n",
              "      dtype='object')"
            ]
          },
          "metadata": {
            "tags": []
          },
          "execution_count": 28
        }
      ]
    },
    {
      "cell_type": "code",
      "metadata": {
        "colab": {
          "base_uri": "https://localhost:8080/",
          "height": 357
        },
        "id": "fPJ2VcewYMUI",
        "outputId": "f0a58b0b-08d7-4ca1-fee7-26fded90d174"
      },
      "source": [
        "bar_chart('Age')"
      ],
      "execution_count": 29,
      "outputs": [
        {
          "output_type": "display_data",
          "data": {
            "image/png": "[encoded data removed]",
            "text/plain": [
              "<Figure size 720x360 with 1 Axes>"
            ]
          },
          "metadata": {
            "tags": [],
            "needs_background": "light"
          }
        }
      ]
    },
    {
      "cell_type": "code",
      "metadata": {
        "colab": {
          "base_uri": "https://localhost:8080/",
          "height": 357
        },
        "id": "z8jZIVN5YOGQ",
        "outputId": "a62646ed-e600-4329-a5cd-3dd572c53586"
      },
      "source": [
        "bar_chart('Gender')"
      ],
      "execution_count": 30,
      "outputs": [
        {
          "output_type": "display_data",
          "data": {
            "image/png": "[encoded data removed]",
            "text/plain": [
              "<Figure size 720x360 with 1 Axes>"
            ]
          },
          "metadata": {
            "tags": [],
            "needs_background": "light"
          }
        }
      ]
    },
    {
      "cell_type": "code",
      "metadata": {
        "colab": {
          "base_uri": "https://localhost:8080/",
          "height": 357
        },
        "id": "yX3xY6EMYWCo",
        "outputId": "222e3700-53fb-41ca-9b92-34847c2bfbca"
      },
      "source": [
        "bar_chart('Marital_status')"
      ],
      "execution_count": 31,
      "outputs": [
        {
          "output_type": "display_data",
          "data": {
            "image/png": "[encoded data removed]",
            "text/plain": [
              "<Figure size 720x360 with 1 Axes>"
            ]
          },
          "metadata": {
            "tags": [],
            "needs_background": "light"
          }
        }
      ]
    },
    {
      "cell_type": "code",
      "metadata": {
        "colab": {
          "base_uri": "https://localhost:8080/",
          "height": 357
        },
        "id": "bpJ9KNboYX9o",
        "outputId": "a8a578b1-9190-4d41-8be6-277ee6885e34"
      },
      "source": [
        "bar_chart('Division')"
      ],
      "execution_count": 32,
      "outputs": [
        {
          "output_type": "display_data",
          "data": {
            "image/png": "[encoded data removed]",
            "text/plain": [
              "<Figure size 720x360 with 1 Axes>"
            ]
          },
          "metadata": {
            "tags": [],
            "needs_background": "light"
          }
        }
      ]
    },
    {
      "cell_type": "code",
      "metadata": {
        "colab": {
          "base_uri": "https://localhost:8080/",
          "height": 796
        },
        "id": "laY8sqVfYZ71",
        "outputId": "ac77602a-1f0b-4994-bc96-31f9235ea9f3"
      },
      "source": [
        "bar_chart('Home_town')"
      ],
      "execution_count": 33,
      "outputs": [
        {
          "output_type": "display_data",
          "data": {
            "image/png": "[encoded data removed]",
            "text/plain": [
              "<Figure size 720x360 with 1 Axes>"
            ]
          },
          "metadata": {
            "tags": [],
            "needs_background": "light"
          }
        }
      ]
    },
    {
      "cell_type": "code",
      "metadata": {
        "colab": {
          "base_uri": "https://localhost:8080/",
          "height": 357
        },
        "id": "IjNf4fy-YcFk",
        "outputId": "7badb399-4d93-4a88-c62d-4bfc2abc4da0"
      },
      "source": [
        "bar_chart('Is_urban')"
      ],
      "execution_count": 34,
      "outputs": [
        {
          "output_type": "display_data",
          "data": {
            "image/png": "[encoded data removed]",
            "text/plain": [
              "<Figure size 720x360 with 1 Axes>"
            ]
          },
          "metadata": {
            "tags": [],
            "needs_background": "light"
          }
        }
      ]
    },
    {
      "cell_type": "code",
      "metadata": {
        "colab": {
          "base_uri": "https://localhost:8080/",
          "height": 357
        },
        "id": "UcfcFWLJYe5N",
        "outputId": "25bff1e6-6050-4e74-b3a0-0bcae7a3dbff"
      },
      "source": [
        "bar_chart('Work')"
      ],
      "execution_count": 35,
      "outputs": [
        {
          "output_type": "display_data",
          "data": {
            "image/png": "[encoded data removed]",
            "text/plain": [
              "<Figure size 720x360 with 1 Axes>"
            ]
          },
          "metadata": {
            "tags": [],
            "needs_background": "light"
          }
        }
      ]
    },
    {
      "cell_type": "code",
      "metadata": {
        "colab": {
          "base_uri": "https://localhost:8080/",
          "height": 357
        },
        "id": "i1WmvUylYg6t",
        "outputId": "7246e135-78a6-4dab-e1b6-cfdfbdc4ea54"
      },
      "source": [
        "bar_chart('Income')"
      ],
      "execution_count": 36,
      "outputs": [
        {
          "output_type": "display_data",
          "data": {
            "image/png": "[encoded data removed]",
            "text/plain": [
              "<Figure size 720x360 with 1 Axes>"
            ]
          },
          "metadata": {
            "tags": [],
            "needs_background": "light"
          }
        }
      ]
    },
    {
      "cell_type": "code",
      "metadata": {
        "colab": {
          "base_uri": "https://localhost:8080/",
          "height": 357
        },
        "id": "kPCPtATmYi01",
        "outputId": "ff4cb6b3-47d6-4d80-a8b6-88c714fc668e"
      },
      "source": [
        "bar_chart('take_food_from_restuarent_month')"
      ],
      "execution_count": 37,
      "outputs": [
        {
          "output_type": "display_data",
          "data": {
            "image/png": "[encoded data removed]",
            "text/plain": [
              "<Figure size 720x360 with 1 Axes>"
            ]
          },
          "metadata": {
            "tags": [],
            "needs_background": "light"
          }
        }
      ]
    },
    {
      "cell_type": "code",
      "metadata": {
        "colab": {
          "base_uri": "https://localhost:8080/",
          "height": 357
        },
        "id": "hkKgUSHlYkq9",
        "outputId": "144c3ea2-dcbd-466b-f237-809b0c322cab"
      },
      "source": [
        "bar_chart('Order_food_from_online_month')"
      ],
      "execution_count": 38,
      "outputs": [
        {
          "output_type": "display_data",
          "data": {
            "image/png": "[encoded data removed]",
            "text/plain": [
              "<Figure size 720x360 with 1 Axes>"
            ]
          },
          "metadata": {
            "tags": [],
            "needs_background": "light"
          }
        }
      ]
    },
    {
      "cell_type": "code",
      "metadata": {
        "colab": {
          "base_uri": "https://localhost:8080/",
          "height": 357
        },
        "id": "3y1x8JWXYmTV",
        "outputId": "017bc2e6-b2b1-43c7-8a4f-65bef6d26411"
      },
      "source": [
        "bar_chart('Spicy')"
      ],
      "execution_count": 39,
      "outputs": [
        {
          "output_type": "display_data",
          "data": {
            "image/png": "[encoded data removed]",
            "text/plain": [
              "<Figure size 720x360 with 1 Axes>"
            ]
          },
          "metadata": {
            "tags": [],
            "needs_background": "light"
          }
        }
      ]
    },
    {
      "cell_type": "code",
      "metadata": {
        "colab": {
          "base_uri": "https://localhost:8080/",
          "height": 357
        },
        "id": "TKJfc7eTYn-b",
        "outputId": "9565bb1b-dcea-4ea8-8e51-afadeda6181a"
      },
      "source": [
        "bar_chart('Sweet')"
      ],
      "execution_count": 40,
      "outputs": [
        {
          "output_type": "display_data",
          "data": {
            "image/png": "[encoded data removed]",
            "text/plain": [
              "<Figure size 720x360 with 1 Axes>"
            ]
          },
          "metadata": {
            "tags": [],
            "needs_background": "light"
          }
        }
      ]
    },
    {
      "cell_type": "code",
      "metadata": {
        "colab": {
          "base_uri": "https://localhost:8080/",
          "height": 357
        },
        "id": "tyeD2cC8Ypmz",
        "outputId": "21a233cb-5431-499e-c6f5-e2d1df879fc6"
      },
      "source": [
        "bar_chart('Preferable_price_BDT')"
      ],
      "execution_count": 41,
      "outputs": [
        {
          "output_type": "display_data",
          "data": {
            "image/png": "[encoded data removed]",
            "text/plain": [
              "<Figure size 720x360 with 1 Axes>"
            ]
          },
          "metadata": {
            "tags": [],
            "needs_background": "light"
          }
        }
      ]
    },
    {
      "cell_type": "code",
      "metadata": {
        "colab": {
          "base_uri": "https://localhost:8080/",
          "height": 357
        },
        "id": "1rLFcJaTYrjr",
        "outputId": "046aafd8-962e-4000-e67d-7d67539424da"
      },
      "source": [
        "bar_chart('New_recipe')"
      ],
      "execution_count": 42,
      "outputs": [
        {
          "output_type": "display_data",
          "data": {
            "image/png": "[encoded data removed]",
            "text/plain": [
              "<Figure size 720x360 with 1 Axes>"
            ]
          },
          "metadata": {
            "tags": [],
            "needs_background": "light"
          }
        }
      ]
    },
    {
      "cell_type": "code",
      "metadata": {
        "colab": {
          "base_uri": "https://localhost:8080/",
          "height": 357
        },
        "id": "XsidDWHuYtly",
        "outputId": "0743c0a9-5fc3-4265-c110-42c7c06d7dab"
      },
      "source": [
        "bar_chart('Street_food')"
      ],
      "execution_count": 43,
      "outputs": [
        {
          "output_type": "display_data",
          "data": {
            "image/png": "[encoded data removed]",
            "text/plain": [
              "<Figure size 720x360 with 1 Axes>"
            ]
          },
          "metadata": {
            "tags": [],
            "needs_background": "light"
          }
        }
      ]
    },
    {
      "cell_type": "code",
      "metadata": {
        "colab": {
          "base_uri": "https://localhost:8080/",
          "height": 357
        },
        "id": "INE5jRxkYver",
        "outputId": "1bc730d6-0e31-485d-ed25-d9314c2a310d"
      },
      "source": [
        "bar_chart('Restuarent_food')"
      ],
      "execution_count": 44,
      "outputs": [
        {
          "output_type": "display_data",
          "data": {
            "image/png": "[encoded data removed]",
            "text/plain": [
              "<Figure size 720x360 with 1 Axes>"
            ]
          },
          "metadata": {
            "tags": [],
            "needs_background": "light"
          }
        }
      ]
    },
    {
      "cell_type": "code",
      "metadata": {
        "colab": {
          "base_uri": "https://localhost:8080/",
          "height": 357
        },
        "id": "FUjplrv2YxAL",
        "outputId": "16a5d8a3-6d8d-4f69-b128-f7ea2af8e17a"
      },
      "source": [
        "bar_chart('Cost_rest_month')"
      ],
      "execution_count": 45,
      "outputs": [
        {
          "output_type": "display_data",
          "data": {
            "image/png": "[encoded data removed]",
            "text/plain": [
              "<Figure size 720x360 with 1 Axes>"
            ]
          },
          "metadata": {
            "tags": [],
            "needs_background": "light"
          }
        }
      ]
    },
    {
      "cell_type": "code",
      "metadata": {
        "id": "kivH-UeJYyt7"
      },
      "source": [
        "# bar_chart('Street_or_resturant')"
      ],
      "execution_count": 46,
      "outputs": []
    },
    {
      "cell_type": "code",
      "metadata": {
        "id": "pTzR_P7mY1uT"
      },
      "source": [
        "def scatter_diagram(feature):\n",
        "  plt.scatter(df[feature],df['Food_type'])\n",
        "  plt.xlabel(feature)\n",
        "  plt.ylabel(\"Food type\")\n",
        "  plt.show()"
      ],
      "execution_count": 47,
      "outputs": []
    },
    {
      "cell_type": "code",
      "metadata": {
        "colab": {
          "base_uri": "https://localhost:8080/",
          "height": 279
        },
        "id": "Z6ITaUilY30m",
        "outputId": "0c0c3ac1-acab-497b-f677-489f2efb3727"
      },
      "source": [
        "scatter_diagram('Age')"
      ],
      "execution_count": 48,
      "outputs": [
        {
          "output_type": "display_data",
          "data": {
            "image/png": "[encoded data removed]",
            "text/plain": [
              "<Figure size 432x288 with 1 Axes>"
            ]
          },
          "metadata": {
            "tags": [],
            "needs_background": "light"
          }
        }
      ]
    },
    {
      "cell_type": "code",
      "metadata": {
        "colab": {
          "base_uri": "https://localhost:8080/",
          "height": 279
        },
        "id": "_P711KNvY9p2",
        "outputId": "dbc3be81-feff-430e-fb46-2f19ac55c013"
      },
      "source": [
        "scatter_diagram('Income')"
      ],
      "execution_count": 49,
      "outputs": [
        {
          "output_type": "display_data",
          "data": {
            "image/png": "[encoded data removed]",
            "text/plain": [
              "<Figure size 432x288 with 1 Axes>"
            ]
          },
          "metadata": {
            "tags": [],
            "needs_background": "light"
          }
        }
      ]
    },
    {
      "cell_type": "code",
      "metadata": {
        "colab": {
          "base_uri": "https://localhost:8080/",
          "height": 279
        },
        "id": "ruawzOi8ZBZX",
        "outputId": "6ee61815-b6c9-4d61-d827-cfeff032ecf3"
      },
      "source": [
        "scatter_diagram('Work')"
      ],
      "execution_count": 50,
      "outputs": [
        {
          "output_type": "display_data",
          "data": {
            "image/png": "[encoded data removed]",
            "text/plain": [
              "<Figure size 432x288 with 1 Axes>"
            ]
          },
          "metadata": {
            "tags": [],
            "needs_background": "light"
          }
        }
      ]
    },
    {
      "cell_type": "markdown",
      "metadata": {
        "id": "GtixvGq6ZHzH"
      },
      "source": [
        "#**Preparing data for model**"
      ]
    },
    {
      "cell_type": "code",
      "metadata": {
        "id": "AKFmJgFVZDM_"
      },
      "source": [
        ""
      ],
      "execution_count": 50,
      "outputs": []
    },
    {
      "cell_type": "code",
      "metadata": {
        "id": "JjEO2KH0ZGQf"
      },
      "source": [
        "X = df.drop(['Food_type'],axis=1)\n",
        "y = df['Food_type']"
      ],
      "execution_count": 51,
      "outputs": []
    },
    {
      "cell_type": "code",
      "metadata": {
        "colab": {
          "base_uri": "https://localhost:8080/"
        },
        "id": "k2ypuZQ2ZMEI",
        "outputId": "6cfb3439-7fde-408f-f528-c653a9c05d83"
      },
      "source": [
        "X.shape, y.shape"
      ],
      "execution_count": 52,
      "outputs": [
        {
          "output_type": "execute_result",
          "data": {
            "text/plain": [
              "((422, 18), (422,))"
            ]
          },
          "metadata": {
            "tags": []
          },
          "execution_count": 52
        }
      ]
    },
    {
      "cell_type": "code",
      "metadata": {
        "colab": {
          "base_uri": "https://localhost:8080/"
        },
        "id": "04uaNvodZNqw",
        "outputId": "072e8e1a-e021-407c-f134-0b056489666e"
      },
      "source": [
        "X.columns"
      ],
      "execution_count": 53,
      "outputs": [
        {
          "output_type": "execute_result",
          "data": {
            "text/plain": [
              "Index(['Age', 'Gender', 'Marital_status', 'Division', 'Home_town',\n",
              "       'Living_Town', 'Is_urban', 'Work', 'Income',\n",
              "       'take_food_from_restuarent_month', 'Order_food_from_online_month',\n",
              "       'Spicy', 'Sweet', 'Preferable_price_BDT', 'New_recipe', 'Street_food',\n",
              "       'Restuarent_food', 'Cost_rest_month'],\n",
              "      dtype='object')"
            ]
          },
          "metadata": {
            "tags": []
          },
          "execution_count": 53
        }
      ]
    },
    {
      "cell_type": "code",
      "metadata": {
        "colab": {
          "base_uri": "https://localhost:8080/"
        },
        "id": "fRm951fzZPXH",
        "outputId": "02a08c02-bc02-4ad9-bfe2-985d820e13b6"
      },
      "source": [
        "X.info()"
      ],
      "execution_count": 54,
      "outputs": [
        {
          "output_type": "stream",
          "text": [
            "<class 'pandas.core.frame.DataFrame'>\n",
            "RangeIndex: 422 entries, 0 to 421\n",
            "Data columns (total 18 columns):\n",
            " #   Column                           Non-Null Count  Dtype\n",
            "---  ------                           --------------  -----\n",
            " 0   Age                              422 non-null    int64\n",
            " 1   Gender                           422 non-null    int64\n",
            " 2   Marital_status                   422 non-null    int64\n",
            " 3   Division                         422 non-null    int64\n",
            " 4   Home_town                        422 non-null    int64\n",
            " 5   Living_Town                      422 non-null    int64\n",
            " 6   Is_urban                         422 non-null    int64\n",
            " 7   Work                             422 non-null    int64\n",
            " 8   Income                           422 non-null    int64\n",
            " 9   take_food_from_restuarent_month  422 non-null    int64\n",
            " 10  Order_food_from_online_month     422 non-null    int64\n",
            " 11  Spicy                            422 non-null    int64\n",
            " 12  Sweet                            422 non-null    int64\n",
            " 13  Preferable_price_BDT             422 non-null    int64\n",
            " 14  New_recipe                       422 non-null    int64\n",
            " 15  Street_food                      422 non-null    int64\n",
            " 16  Restuarent_food                  422 non-null    int64\n",
            " 17  Cost_rest_month                  422 non-null    int64\n",
            "dtypes: int64(18)\n",
            "memory usage: 59.5 KB\n"
          ],
          "name": "stdout"
        }
      ]
    },
    {
      "cell_type": "markdown",
      "metadata": {
        "id": "DUGBj_IoZTxC"
      },
      "source": [
        "#**Spliting data**"
      ]
    },
    {
      "cell_type": "code",
      "metadata": {
        "id": "22bO9f1YZRM_"
      },
      "source": [
        "from sklearn.model_selection import train_test_split\n",
        "import numpy as np"
      ],
      "execution_count": 55,
      "outputs": []
    },
    {
      "cell_type": "code",
      "metadata": {
        "colab": {
          "base_uri": "https://localhost:8080/"
        },
        "id": "l4IJE9VgZVyX",
        "outputId": "95c51f0e-4c35-4100-9fb3-12eb1701ae42"
      },
      "source": [
        "x_train, x_test, y_train, y_test = train_test_split(X, y,test_size=.15,random_state=0)\n",
        "x_train.shape,y_train.shape , x_test.shape,y_test.shape"
      ],
      "execution_count": 56,
      "outputs": [
        {
          "output_type": "execute_result",
          "data": {
            "text/plain": [
              "((358, 18), (358,), (64, 18), (64,))"
            ]
          },
          "metadata": {
            "tags": []
          },
          "execution_count": 56
        }
      ]
    },
    {
      "cell_type": "markdown",
      "metadata": {
        "id": "hp6vhcnbZiOP"
      },
      "source": [
        "#**Desicion Tree**"
      ]
    },
    {
      "cell_type": "code",
      "metadata": {
        "id": "39xO2Co4ZXjQ"
      },
      "source": [
        "from sklearn.tree import DecisionTreeClassifier\n",
        "from sklearn import tree"
      ],
      "execution_count": 57,
      "outputs": []
    },
    {
      "cell_type": "code",
      "metadata": {
        "id": "Aiby0Kg9ZhYY"
      },
      "source": [
        "from sklearn.model_selection import KFold\n",
        "from sklearn.model_selection import cross_val_score\n",
        "k_fold = KFold(n_splits=10, shuffle=True, random_state=0)"
      ],
      "execution_count": 58,
      "outputs": []
    },
    {
      "cell_type": "code",
      "metadata": {
        "colab": {
          "base_uri": "https://localhost:8080/"
        },
        "id": "T6UHN_QLZmTg",
        "outputId": "a0f16fc0-71f5-4ee0-b15a-f336ffcbb336"
      },
      "source": [
        "clf = DecisionTreeClassifier()\n",
        "scoring = 'accuracy'\n",
        "score = cross_val_score(clf, X, y, cv=k_fold, n_jobs=1, scoring=scoring,error_score='raise')\n",
        "print(score)"
      ],
      "execution_count": 59,
      "outputs": [
        {
          "output_type": "stream",
          "text": [
            "[0.95348837 0.95348837 1.         0.95238095 0.95238095 0.95238095\n",
            " 0.95238095 1.         1.         0.9047619 ]\n"
          ],
          "name": "stdout"
        }
      ]
    },
    {
      "cell_type": "code",
      "metadata": {
        "colab": {
          "base_uri": "https://localhost:8080/"
        },
        "id": "AxztKlIfZojR",
        "outputId": "ba6112d7-b1ed-46f7-94c4-961cf6386cec"
      },
      "source": [
        "round(np.mean(score)*100, 2)"
      ],
      "execution_count": 60,
      "outputs": [
        {
          "output_type": "execute_result",
          "data": {
            "text/plain": [
              "96.21"
            ]
          },
          "metadata": {
            "tags": []
          },
          "execution_count": 60
        }
      ]
    },
    {
      "cell_type": "code",
      "metadata": {
        "colab": {
          "base_uri": "https://localhost:8080/"
        },
        "id": "swJCeDIUZrdo",
        "outputId": "7425e1f5-96ac-44b7-dbff-b50c643353b4"
      },
      "source": [
        "clf.fit(x_train,y_train)\n",
        "prediction = clf.predict(x_test)\n",
        "from sklearn.metrics import accuracy_score,classification_report, confusion_matrix\n",
        "accuracy_score(y_test, prediction)*100"
      ],
      "execution_count": 61,
      "outputs": [
        {
          "output_type": "execute_result",
          "data": {
            "text/plain": [
              "93.75"
            ]
          },
          "metadata": {
            "tags": []
          },
          "execution_count": 61
        }
      ]
    },
    {
      "cell_type": "code",
      "metadata": {
        "colab": {
          "base_uri": "https://localhost:8080/"
        },
        "id": "mxDvfYW2Ztkg",
        "outputId": "98808204-a196-4242-a779-c2d6afb39a84"
      },
      "source": [
        "print(\"Confusion Matrix -->\")\n",
        "cm = confusion_matrix(y_test, prediction)\n",
        "print(cm)\n",
        "print(\"Classification Report -->\")\n",
        "print(classification_report(y_test, prediction))"
      ],
      "execution_count": 62,
      "outputs": [
        {
          "output_type": "stream",
          "text": [
            "Confusion Matrix -->\n",
            "[[29  2  2]\n",
            " [ 0 28  0]\n",
            " [ 0  0  3]]\n",
            "Classification Report -->\n",
            "              precision    recall  f1-score   support\n",
            "\n",
            "           1       1.00      0.88      0.94        33\n",
            "           2       0.93      1.00      0.97        28\n",
            "           3       0.60      1.00      0.75         3\n",
            "\n",
            "    accuracy                           0.94        64\n",
            "   macro avg       0.84      0.96      0.88        64\n",
            "weighted avg       0.95      0.94      0.94        64\n",
            "\n"
          ],
          "name": "stdout"
        }
      ]
    },
    {
      "cell_type": "code",
      "metadata": {
        "colab": {
          "base_uri": "https://localhost:8080/",
          "height": 465
        },
        "id": "PRwldo--ZviY",
        "outputId": "4cc5080b-eeb3-48ed-a3dd-7ce884a47aaf"
      },
      "source": [
        "import seaborn as sn\n",
        "sn.set()\n",
        "plt.figure(figsize=(10,7))\n",
        "sn.heatmap(cm,annot=True)\n",
        "plt.xlabel('Predicted')\n",
        "plt.ylabel('Truth')"
      ],
      "execution_count": 63,
      "outputs": [
        {
          "output_type": "execute_result",
          "data": {
            "text/plain": [
              "Text(66.5, 0.5, 'Truth')"
            ]
          },
          "metadata": {
            "tags": []
          },
          "execution_count": 63
        },
        {
          "output_type": "display_data",
          "data": {
            "image/png": "[encoded data removed]",
            "text/plain": [
              "<Figure size 720x504 with 2 Axes>"
            ]
          },
          "metadata": {
            "tags": []
          }
        }
      ]
    },
    {
      "cell_type": "code",
      "metadata": {
        "id": "IpP0c_v7n5no"
      },
      "source": [
        "from sklearn.model_selection import GridSearchCV\n",
        "dt_hyperP_tuning = GridSearchCV(clf, {\n",
        "    'criterion': ['gini', 'entropy'],\n",
        "    'max_depth': [10, 11, 12, 13, 14, 15],\n",
        "}, cv=5, return_train_score=False)\n",
        "dt_hyperP_tuning.fit(X, y)\n",
        "dt_result = dt_hyperP_tuning.cv_results_\n",
        "dt_df = pd.DataFrame(dt_result)"
      ],
      "execution_count": 65,
      "outputs": []
    },
    {
      "cell_type": "code",
      "metadata": {
        "colab": {
          "base_uri": "https://localhost:8080/",
          "height": 421
        },
        "id": "vh6PlMJ2oD86",
        "outputId": "c13b6bea-bd98-4303-fdc5-e45cbdd998c6"
      },
      "source": [
        "dt_df[['params', 'mean_test_score']]"
      ],
      "execution_count": 66,
      "outputs": [
        {
          "output_type": "execute_result",
          "data": {
            "text/html": [
              "<div>\n",
              "<style scoped>\n",
              "    .dataframe tbody tr th:only-of-type {\n",
              "        vertical-align: middle;\n",
              "    }\n",
              "\n",
              "    .dataframe tbody tr th {\n",
              "        vertical-align: top;\n",
              "    }\n",
              "\n",
              "    .dataframe thead th {\n",
              "        text-align: right;\n",
              "    }\n",
              "</style>\n",
              "<table border=\"1\" class=\"dataframe\">\n",
              "  <thead>\n",
              "    <tr style=\"text-align: right;\">\n",
              "      <th></th>\n",
              "      <th>params</th>\n",
              "      <th>mean_test_score</th>\n",
              "    </tr>\n",
              "  </thead>\n",
              "  <tbody>\n",
              "    <tr>\n",
              "      <th>0</th>\n",
              "      <td>{'criterion': 'gini', 'max_depth': 10}</td>\n",
              "      <td>0.947759</td>\n",
              "    </tr>\n",
              "    <tr>\n",
              "      <th>1</th>\n",
              "      <td>{'criterion': 'gini', 'max_depth': 11}</td>\n",
              "      <td>0.980952</td>\n",
              "    </tr>\n",
              "    <tr>\n",
              "      <th>2</th>\n",
              "      <td>{'criterion': 'gini', 'max_depth': 12}</td>\n",
              "      <td>0.988095</td>\n",
              "    </tr>\n",
              "    <tr>\n",
              "      <th>3</th>\n",
              "      <td>{'criterion': 'gini', 'max_depth': 13}</td>\n",
              "      <td>0.995238</td>\n",
              "    </tr>\n",
              "    <tr>\n",
              "      <th>4</th>\n",
              "      <td>{'criterion': 'gini', 'max_depth': 14}</td>\n",
              "      <td>0.997619</td>\n",
              "    </tr>\n",
              "    <tr>\n",
              "      <th>5</th>\n",
              "      <td>{'criterion': 'gini', 'max_depth': 15}</td>\n",
              "      <td>1.000000</td>\n",
              "    </tr>\n",
              "    <tr>\n",
              "      <th>6</th>\n",
              "      <td>{'criterion': 'entropy', 'max_depth': 10}</td>\n",
              "      <td>0.926527</td>\n",
              "    </tr>\n",
              "    <tr>\n",
              "      <th>7</th>\n",
              "      <td>{'criterion': 'entropy', 'max_depth': 11}</td>\n",
              "      <td>0.969188</td>\n",
              "    </tr>\n",
              "    <tr>\n",
              "      <th>8</th>\n",
              "      <td>{'criterion': 'entropy', 'max_depth': 12}</td>\n",
              "      <td>0.985714</td>\n",
              "    </tr>\n",
              "    <tr>\n",
              "      <th>9</th>\n",
              "      <td>{'criterion': 'entropy', 'max_depth': 13}</td>\n",
              "      <td>0.992857</td>\n",
              "    </tr>\n",
              "    <tr>\n",
              "      <th>10</th>\n",
              "      <td>{'criterion': 'entropy', 'max_depth': 14}</td>\n",
              "      <td>0.995238</td>\n",
              "    </tr>\n",
              "    <tr>\n",
              "      <th>11</th>\n",
              "      <td>{'criterion': 'entropy', 'max_depth': 15}</td>\n",
              "      <td>0.995238</td>\n",
              "    </tr>\n",
              "  </tbody>\n",
              "</table>\n",
              "</div>"
            ],
            "text/plain": [
              "                                       params  mean_test_score\n",
              "0      {'criterion': 'gini', 'max_depth': 10}         0.947759\n",
              "1      {'criterion': 'gini', 'max_depth': 11}         0.980952\n",
              "2      {'criterion': 'gini', 'max_depth': 12}         0.988095\n",
              "3      {'criterion': 'gini', 'max_depth': 13}         0.995238\n",
              "4      {'criterion': 'gini', 'max_depth': 14}         0.997619\n",
              "5      {'criterion': 'gini', 'max_depth': 15}         1.000000\n",
              "6   {'criterion': 'entropy', 'max_depth': 10}         0.926527\n",
              "7   {'criterion': 'entropy', 'max_depth': 11}         0.969188\n",
              "8   {'criterion': 'entropy', 'max_depth': 12}         0.985714\n",
              "9   {'criterion': 'entropy', 'max_depth': 13}         0.992857\n",
              "10  {'criterion': 'entropy', 'max_depth': 14}         0.995238\n",
              "11  {'criterion': 'entropy', 'max_depth': 15}         0.995238"
            ]
          },
          "metadata": {
            "tags": []
          },
          "execution_count": 66
        }
      ]
    },
    {
      "cell_type": "code",
      "metadata": {
        "colab": {
          "base_uri": "https://localhost:8080/"
        },
        "id": "mquhO1n8oO12",
        "outputId": "6ed9a02f-54d6-4035-c0db-4b239c42b89f"
      },
      "source": [
        "clf = DecisionTreeClassifier(criterion='entropy',max_depth=14)\n",
        "clf.fit(x_train,y_train)\n",
        "prediction = clf.predict(x_test)\n",
        "from sklearn.metrics import accuracy_score,classification_report, confusion_matrix\n",
        "accuracy_score(y_test, prediction)*100"
      ],
      "execution_count": 67,
      "outputs": [
        {
          "output_type": "execute_result",
          "data": {
            "text/plain": [
              "93.75"
            ]
          },
          "metadata": {
            "tags": []
          },
          "execution_count": 67
        }
      ]
    },
    {
      "cell_type": "code",
      "metadata": {
        "colab": {
          "base_uri": "https://localhost:8080/"
        },
        "id": "rS8FN6g2odnF",
        "outputId": "250bcf4d-8c91-4a5d-f325-f843627e1db0"
      },
      "source": [
        "print(\"Confusion Matrix -->\")\n",
        "cm = confusion_matrix(y_test, prediction)\n",
        "print(cm)\n",
        "print(\"Classification Report -->\")\n",
        "print(classification_report(y_test, prediction))"
      ],
      "execution_count": 68,
      "outputs": [
        {
          "output_type": "stream",
          "text": [
            "Confusion Matrix -->\n",
            "[[29  4  0]\n",
            " [ 0 28  0]\n",
            " [ 0  0  3]]\n",
            "Classification Report -->\n",
            "              precision    recall  f1-score   support\n",
            "\n",
            "           1       1.00      0.88      0.94        33\n",
            "           2       0.88      1.00      0.93        28\n",
            "           3       1.00      1.00      1.00         3\n",
            "\n",
            "    accuracy                           0.94        64\n",
            "   macro avg       0.96      0.96      0.96        64\n",
            "weighted avg       0.95      0.94      0.94        64\n",
            "\n"
          ],
          "name": "stdout"
        }
      ]
    },
    {
      "cell_type": "code",
      "metadata": {
        "id": "R0gNtUG-ok3m",
        "colab": {
          "base_uri": "https://localhost:8080/",
          "height": 465
        },
        "outputId": "ce9f85fd-a399-4bdd-d66d-e57b9d80a12e"
      },
      "source": [
        "import seaborn as sn\n",
        "sn.set()\n",
        "plt.figure(figsize=(10,7))\n",
        "sn.heatmap(cm,annot=True)\n",
        "plt.xlabel('Predicted')\n",
        "plt.ylabel('Truth')"
      ],
      "execution_count": 69,
      "outputs": [
        {
          "output_type": "execute_result",
          "data": {
            "text/plain": [
              "Text(66.5, 0.5, 'Truth')"
            ]
          },
          "metadata": {
            "tags": []
          },
          "execution_count": 69
        },
        {
          "output_type": "display_data",
          "data": {
            "image/png": "[encoded data removed]",
            "text/plain": [
              "<Figure size 720x504 with 2 Axes>"
            ]
          },
          "metadata": {
            "tags": []
          }
        }
      ]
    },
    {
      "cell_type": "markdown",
      "metadata": {
        "id": "S4Q4ZqEDZ74_"
      },
      "source": [
        "#**Random forest**"
      ]
    },
    {
      "cell_type": "code",
      "metadata": {
        "id": "FT6eUnbFZzpw"
      },
      "source": [
        "from sklearn.ensemble import RandomForestClassifier"
      ],
      "execution_count": 70,
      "outputs": []
    },
    {
      "cell_type": "code",
      "metadata": {
        "colab": {
          "base_uri": "https://localhost:8080/"
        },
        "id": "no9JeC6MZ-Z4",
        "outputId": "326f5ea2-d085-4a0b-98d9-9e026b36c851"
      },
      "source": [
        "clf = RandomForestClassifier(n_estimators=13)\n",
        "scoring = 'accuracy'\n",
        "score = cross_val_score(clf, X, y, cv=k_fold, n_jobs=1, scoring=scoring)\n",
        "print(score)"
      ],
      "execution_count": 71,
      "outputs": [
        {
          "output_type": "stream",
          "text": [
            "[1.         0.93023256 0.97619048 1.         0.95238095 0.95238095\n",
            " 1.         0.95238095 0.97619048 0.92857143]\n"
          ],
          "name": "stdout"
        }
      ]
    },
    {
      "cell_type": "code",
      "metadata": {
        "colab": {
          "base_uri": "https://localhost:8080/"
        },
        "id": "fzn-whTrZ_xo",
        "outputId": "a291edc2-484a-4a75-cf79-b24d9d70c8b0"
      },
      "source": [
        "round(np.mean(score)*100, 2)"
      ],
      "execution_count": 72,
      "outputs": [
        {
          "output_type": "execute_result",
          "data": {
            "text/plain": [
              "96.68"
            ]
          },
          "metadata": {
            "tags": []
          },
          "execution_count": 72
        }
      ]
    },
    {
      "cell_type": "code",
      "metadata": {
        "id": "3t8LVbwjaBnQ"
      },
      "source": [
        "clf = RandomForestClassifier(n_estimators=13)\n",
        "clf.fit(x_train, y_train)\n",
        "\n",
        "prediction = clf.predict(x_test)"
      ],
      "execution_count": 73,
      "outputs": []
    },
    {
      "cell_type": "code",
      "metadata": {
        "colab": {
          "base_uri": "https://localhost:8080/"
        },
        "id": "fFhJ3J-XaDh_",
        "outputId": "912c58c3-efad-4976-ed11-f6172c7af527"
      },
      "source": [
        "from sklearn.metrics import accuracy_score,classification_report, confusion_matrix\n",
        "round(accuracy_score(y_test, prediction)*100,2)"
      ],
      "execution_count": 117,
      "outputs": [
        {
          "output_type": "execute_result",
          "data": {
            "text/plain": [
              "95.31"
            ]
          },
          "metadata": {
            "tags": []
          },
          "execution_count": 117
        }
      ]
    },
    {
      "cell_type": "code",
      "metadata": {
        "colab": {
          "base_uri": "https://localhost:8080/"
        },
        "id": "bNmDP5FAaFZw",
        "outputId": "1d40bd3e-5f89-4437-aab2-3254dcb6ff1e"
      },
      "source": [
        "print(\"Confusion Matrix -->\")\n",
        "cmr = confusion_matrix(y_test, prediction)\n",
        "print(cmr)\n",
        "\n",
        "print(\"Classification Report -->\")\n",
        "print(classification_report(y_test, prediction))"
      ],
      "execution_count": 118,
      "outputs": [
        {
          "output_type": "stream",
          "text": [
            "Confusion Matrix -->\n",
            "[[31  2  0]\n",
            " [ 0 28  0]\n",
            " [ 0  1  2]]\n",
            "Classification Report -->\n",
            "              precision    recall  f1-score   support\n",
            "\n",
            "           1       1.00      0.94      0.97        33\n",
            "           2       0.90      1.00      0.95        28\n",
            "           3       1.00      0.67      0.80         3\n",
            "\n",
            "    accuracy                           0.95        64\n",
            "   macro avg       0.97      0.87      0.91        64\n",
            "weighted avg       0.96      0.95      0.95        64\n",
            "\n"
          ],
          "name": "stdout"
        }
      ]
    },
    {
      "cell_type": "code",
      "metadata": {
        "colab": {
          "base_uri": "https://localhost:8080/",
          "height": 465
        },
        "id": "bbZmVphgaI1g",
        "outputId": "6d70a8e9-a84c-4332-c9cb-e7d01e022e2c"
      },
      "source": [
        "import seaborn as sn\n",
        "sn.set()\n",
        "plt.figure(figsize=(10,7))\n",
        "sn.heatmap(cmr,annot=True)\n",
        "plt.xlabel('Predicted')\n",
        "plt.ylabel('Truth')"
      ],
      "execution_count": 119,
      "outputs": [
        {
          "output_type": "execute_result",
          "data": {
            "text/plain": [
              "Text(66.5, 0.5, 'Truth')"
            ]
          },
          "metadata": {
            "tags": []
          },
          "execution_count": 119
        },
        {
          "output_type": "display_data",
          "data": {
            "image/png": "[encoded data removed]",
            "text/plain": [
              "<Figure size 720x504 with 2 Axes>"
            ]
          },
          "metadata": {
            "tags": []
          }
        }
      ]
    },
    {
      "cell_type": "markdown",
      "metadata": {
        "id": "HE5VI5u-aOZp"
      },
      "source": [
        "#**CNN**"
      ]
    },
    {
      "cell_type": "code",
      "metadata": {
        "colab": {
          "base_uri": "https://localhost:8080/"
        },
        "id": "FRG_tBTdaKpg",
        "outputId": "705cd34b-5446-498e-cf1b-e9740d45b1f2"
      },
      "source": [
        "cnndataX = x_train.copy() \n",
        "cnndataY = y_train.copy()\n",
        "cnndataX.shape, cnndataY.shape"
      ],
      "execution_count": 77,
      "outputs": [
        {
          "output_type": "execute_result",
          "data": {
            "text/plain": [
              "((358, 18), (358,))"
            ]
          },
          "metadata": {
            "tags": []
          },
          "execution_count": 77
        }
      ]
    },
    {
      "cell_type": "code",
      "metadata": {
        "colab": {
          "base_uri": "https://localhost:8080/",
          "height": 224
        },
        "id": "uahIzptcaSbP",
        "outputId": "723736ef-71ad-4d7b-8628-79ba2f60646a"
      },
      "source": [
        "cnndataX.head()"
      ],
      "execution_count": 78,
      "outputs": [
        {
          "output_type": "execute_result",
          "data": {
            "text/html": [
              "<div>\n",
              "<style scoped>\n",
              "    .dataframe tbody tr th:only-of-type {\n",
              "        vertical-align: middle;\n",
              "    }\n",
              "\n",
              "    .dataframe tbody tr th {\n",
              "        vertical-align: top;\n",
              "    }\n",
              "\n",
              "    .dataframe thead th {\n",
              "        text-align: right;\n",
              "    }\n",
              "</style>\n",
              "<table border=\"1\" class=\"dataframe\">\n",
              "  <thead>\n",
              "    <tr style=\"text-align: right;\">\n",
              "      <th></th>\n",
              "      <th>Age</th>\n",
              "      <th>Gender</th>\n",
              "      <th>Marital_status</th>\n",
              "      <th>Division</th>\n",
              "      <th>Home_town</th>\n",
              "      <th>Living_Town</th>\n",
              "      <th>Is_urban</th>\n",
              "      <th>Work</th>\n",
              "      <th>Income</th>\n",
              "      <th>take_food_from_restuarent_month</th>\n",
              "      <th>Order_food_from_online_month</th>\n",
              "      <th>Spicy</th>\n",
              "      <th>Sweet</th>\n",
              "      <th>Preferable_price_BDT</th>\n",
              "      <th>New_recipe</th>\n",
              "      <th>Street_food</th>\n",
              "      <th>Restuarent_food</th>\n",
              "      <th>Cost_rest_month</th>\n",
              "    </tr>\n",
              "  </thead>\n",
              "  <tbody>\n",
              "    <tr>\n",
              "      <th>188</th>\n",
              "      <td>3</td>\n",
              "      <td>0</td>\n",
              "      <td>0</td>\n",
              "      <td>4</td>\n",
              "      <td>39</td>\n",
              "      <td>39</td>\n",
              "      <td>2</td>\n",
              "      <td>5</td>\n",
              "      <td>1</td>\n",
              "      <td>1</td>\n",
              "      <td>1</td>\n",
              "      <td>3</td>\n",
              "      <td>2</td>\n",
              "      <td>1</td>\n",
              "      <td>2</td>\n",
              "      <td>1</td>\n",
              "      <td>1</td>\n",
              "      <td>1</td>\n",
              "    </tr>\n",
              "    <tr>\n",
              "      <th>107</th>\n",
              "      <td>1</td>\n",
              "      <td>0</td>\n",
              "      <td>1</td>\n",
              "      <td>1</td>\n",
              "      <td>16</td>\n",
              "      <td>13</td>\n",
              "      <td>1</td>\n",
              "      <td>1</td>\n",
              "      <td>1</td>\n",
              "      <td>2</td>\n",
              "      <td>0</td>\n",
              "      <td>4</td>\n",
              "      <td>3</td>\n",
              "      <td>2</td>\n",
              "      <td>1</td>\n",
              "      <td>4</td>\n",
              "      <td>4</td>\n",
              "      <td>2</td>\n",
              "    </tr>\n",
              "    <tr>\n",
              "      <th>171</th>\n",
              "      <td>1</td>\n",
              "      <td>1</td>\n",
              "      <td>1</td>\n",
              "      <td>2</td>\n",
              "      <td>47</td>\n",
              "      <td>13</td>\n",
              "      <td>2</td>\n",
              "      <td>4</td>\n",
              "      <td>0</td>\n",
              "      <td>1</td>\n",
              "      <td>1</td>\n",
              "      <td>2</td>\n",
              "      <td>5</td>\n",
              "      <td>3</td>\n",
              "      <td>1</td>\n",
              "      <td>3</td>\n",
              "      <td>3</td>\n",
              "      <td>0</td>\n",
              "    </tr>\n",
              "    <tr>\n",
              "      <th>157</th>\n",
              "      <td>1</td>\n",
              "      <td>0</td>\n",
              "      <td>1</td>\n",
              "      <td>6</td>\n",
              "      <td>60</td>\n",
              "      <td>12</td>\n",
              "      <td>2</td>\n",
              "      <td>4</td>\n",
              "      <td>0</td>\n",
              "      <td>1</td>\n",
              "      <td>1</td>\n",
              "      <td>5</td>\n",
              "      <td>5</td>\n",
              "      <td>2</td>\n",
              "      <td>2</td>\n",
              "      <td>4</td>\n",
              "      <td>3</td>\n",
              "      <td>0</td>\n",
              "    </tr>\n",
              "    <tr>\n",
              "      <th>392</th>\n",
              "      <td>1</td>\n",
              "      <td>0</td>\n",
              "      <td>1</td>\n",
              "      <td>2</td>\n",
              "      <td>13</td>\n",
              "      <td>13</td>\n",
              "      <td>2</td>\n",
              "      <td>4</td>\n",
              "      <td>1</td>\n",
              "      <td>0</td>\n",
              "      <td>0</td>\n",
              "      <td>4</td>\n",
              "      <td>2</td>\n",
              "      <td>0</td>\n",
              "      <td>1</td>\n",
              "      <td>5</td>\n",
              "      <td>5</td>\n",
              "      <td>1</td>\n",
              "    </tr>\n",
              "  </tbody>\n",
              "</table>\n",
              "</div>"
            ],
            "text/plain": [
              "     Age  Gender  Marital_status  ...  Street_food  Restuarent_food  Cost_rest_month\n",
              "188    3       0               0  ...            1                1                1\n",
              "107    1       0               1  ...            4                4                2\n",
              "171    1       1               1  ...            3                3                0\n",
              "157    1       0               1  ...            4                3                0\n",
              "392    1       0               1  ...            5                5                1\n",
              "\n",
              "[5 rows x 18 columns]"
            ]
          },
          "metadata": {
            "tags": []
          },
          "execution_count": 78
        }
      ]
    },
    {
      "cell_type": "code",
      "metadata": {
        "id": "fFbWk8VRaUln"
      },
      "source": [
        "cnndataX['Age'] = cnndataX['Age']/3\n",
        "cnndataX['Division'] = cnndataX['Division'] / 7\n",
        "cnndataX['Work'] = cnndataX['Work'] / 5\n",
        "cnndataX['Income'] = cnndataX['Income'] / 4\n",
        "cnndataX['take_food_from_restuarent_month'] = cnndataX['take_food_from_restuarent_month'] / 4\n",
        "cnndataX['Order_food_from_online_month'] = cnndataX['Order_food_from_online_month'] / 4\n",
        "cnndataX['Spicy'] = cnndataX['Spicy'] / 5\n",
        "cnndataX['Sweet'] = cnndataX['Sweet'] / 5.0\n",
        "cnndataX['Preferable_price_BDT'] = cnndataX['Preferable_price_BDT'] / 5\n",
        "cnndataX['Cost_rest_month'] = cnndataX['Cost_rest_month'] / 3"
      ],
      "execution_count": 79,
      "outputs": []
    },
    {
      "cell_type": "code",
      "metadata": {
        "colab": {
          "base_uri": "https://localhost:8080/",
          "height": 224
        },
        "id": "fiDB6f6BaW0X",
        "outputId": "39dfcf20-bdb8-4065-8311-094cebbfb724"
      },
      "source": [
        "cnndataX.head()"
      ],
      "execution_count": 80,
      "outputs": [
        {
          "output_type": "execute_result",
          "data": {
            "text/html": [
              "<div>\n",
              "<style scoped>\n",
              "    .dataframe tbody tr th:only-of-type {\n",
              "        vertical-align: middle;\n",
              "    }\n",
              "\n",
              "    .dataframe tbody tr th {\n",
              "        vertical-align: top;\n",
              "    }\n",
              "\n",
              "    .dataframe thead th {\n",
              "        text-align: right;\n",
              "    }\n",
              "</style>\n",
              "<table border=\"1\" class=\"dataframe\">\n",
              "  <thead>\n",
              "    <tr style=\"text-align: right;\">\n",
              "      <th></th>\n",
              "      <th>Age</th>\n",
              "      <th>Gender</th>\n",
              "      <th>Marital_status</th>\n",
              "      <th>Division</th>\n",
              "      <th>Home_town</th>\n",
              "      <th>Living_Town</th>\n",
              "      <th>Is_urban</th>\n",
              "      <th>Work</th>\n",
              "      <th>Income</th>\n",
              "      <th>take_food_from_restuarent_month</th>\n",
              "      <th>Order_food_from_online_month</th>\n",
              "      <th>Spicy</th>\n",
              "      <th>Sweet</th>\n",
              "      <th>Preferable_price_BDT</th>\n",
              "      <th>New_recipe</th>\n",
              "      <th>Street_food</th>\n",
              "      <th>Restuarent_food</th>\n",
              "      <th>Cost_rest_month</th>\n",
              "    </tr>\n",
              "  </thead>\n",
              "  <tbody>\n",
              "    <tr>\n",
              "      <th>188</th>\n",
              "      <td>1.000000</td>\n",
              "      <td>0</td>\n",
              "      <td>0</td>\n",
              "      <td>0.571429</td>\n",
              "      <td>39</td>\n",
              "      <td>39</td>\n",
              "      <td>2</td>\n",
              "      <td>1.0</td>\n",
              "      <td>0.25</td>\n",
              "      <td>0.25</td>\n",
              "      <td>0.25</td>\n",
              "      <td>0.6</td>\n",
              "      <td>0.4</td>\n",
              "      <td>0.2</td>\n",
              "      <td>2</td>\n",
              "      <td>1</td>\n",
              "      <td>1</td>\n",
              "      <td>0.333333</td>\n",
              "    </tr>\n",
              "    <tr>\n",
              "      <th>107</th>\n",
              "      <td>0.333333</td>\n",
              "      <td>0</td>\n",
              "      <td>1</td>\n",
              "      <td>0.142857</td>\n",
              "      <td>16</td>\n",
              "      <td>13</td>\n",
              "      <td>1</td>\n",
              "      <td>0.2</td>\n",
              "      <td>0.25</td>\n",
              "      <td>0.50</td>\n",
              "      <td>0.00</td>\n",
              "      <td>0.8</td>\n",
              "      <td>0.6</td>\n",
              "      <td>0.4</td>\n",
              "      <td>1</td>\n",
              "      <td>4</td>\n",
              "      <td>4</td>\n",
              "      <td>0.666667</td>\n",
              "    </tr>\n",
              "    <tr>\n",
              "      <th>171</th>\n",
              "      <td>0.333333</td>\n",
              "      <td>1</td>\n",
              "      <td>1</td>\n",
              "      <td>0.285714</td>\n",
              "      <td>47</td>\n",
              "      <td>13</td>\n",
              "      <td>2</td>\n",
              "      <td>0.8</td>\n",
              "      <td>0.00</td>\n",
              "      <td>0.25</td>\n",
              "      <td>0.25</td>\n",
              "      <td>0.4</td>\n",
              "      <td>1.0</td>\n",
              "      <td>0.6</td>\n",
              "      <td>1</td>\n",
              "      <td>3</td>\n",
              "      <td>3</td>\n",
              "      <td>0.000000</td>\n",
              "    </tr>\n",
              "    <tr>\n",
              "      <th>157</th>\n",
              "      <td>0.333333</td>\n",
              "      <td>0</td>\n",
              "      <td>1</td>\n",
              "      <td>0.857143</td>\n",
              "      <td>60</td>\n",
              "      <td>12</td>\n",
              "      <td>2</td>\n",
              "      <td>0.8</td>\n",
              "      <td>0.00</td>\n",
              "      <td>0.25</td>\n",
              "      <td>0.25</td>\n",
              "      <td>1.0</td>\n",
              "      <td>1.0</td>\n",
              "      <td>0.4</td>\n",
              "      <td>2</td>\n",
              "      <td>4</td>\n",
              "      <td>3</td>\n",
              "      <td>0.000000</td>\n",
              "    </tr>\n",
              "    <tr>\n",
              "      <th>392</th>\n",
              "      <td>0.333333</td>\n",
              "      <td>0</td>\n",
              "      <td>1</td>\n",
              "      <td>0.285714</td>\n",
              "      <td>13</td>\n",
              "      <td>13</td>\n",
              "      <td>2</td>\n",
              "      <td>0.8</td>\n",
              "      <td>0.25</td>\n",
              "      <td>0.00</td>\n",
              "      <td>0.00</td>\n",
              "      <td>0.8</td>\n",
              "      <td>0.4</td>\n",
              "      <td>0.0</td>\n",
              "      <td>1</td>\n",
              "      <td>5</td>\n",
              "      <td>5</td>\n",
              "      <td>0.333333</td>\n",
              "    </tr>\n",
              "  </tbody>\n",
              "</table>\n",
              "</div>"
            ],
            "text/plain": [
              "          Age  Gender  ...  Restuarent_food  Cost_rest_month\n",
              "188  1.000000       0  ...                1         0.333333\n",
              "107  0.333333       0  ...                4         0.666667\n",
              "171  0.333333       1  ...                3         0.000000\n",
              "157  0.333333       0  ...                3         0.000000\n",
              "392  0.333333       0  ...                5         0.333333\n",
              "\n",
              "[5 rows x 18 columns]"
            ]
          },
          "metadata": {
            "tags": []
          },
          "execution_count": 80
        }
      ]
    },
    {
      "cell_type": "code",
      "metadata": {
        "id": "-5J6h4pJaYen"
      },
      "source": [
        "import tensorflow as tf\n",
        "from tensorflow import keras"
      ],
      "execution_count": 81,
      "outputs": []
    },
    {
      "cell_type": "code",
      "metadata": {
        "colab": {
          "base_uri": "https://localhost:8080/"
        },
        "id": "WQrfdBY8aaOP",
        "outputId": "75f1dc27-59ba-4614-fac1-f41b041ff2c7"
      },
      "source": [
        "model = keras.Sequential([\n",
        "      keras.layers.Dense(64,input_shape=(18,),activation='relu',kernel_initializer='ones',bias_initializer='zeros'),\n",
        "      keras.layers.Dense(32,activation='relu'),\n",
        "      keras.layers.Dense(16,activation='relu'),\n",
        "      keras.layers.Dense(1,activation='sigmoid'),\n",
        "])\n",
        "\n",
        "model.compile(\n",
        "    optimizer='Adam',\n",
        "    loss='categorical_crossentropy',\n",
        "    metrics=['accuracy']\n",
        ")\n",
        "model.fit(cnndataX,cnndataY,epochs=50)"
      ],
      "execution_count": 82,
      "outputs": [
        {
          "output_type": "stream",
          "text": [
            "Epoch 1/50\n",
            "12/12 [==============================] - 1s 2ms/step - loss: 0.0000e+00 - accuracy: 0.4336\n",
            "Epoch 2/50\n",
            "12/12 [==============================] - 0s 2ms/step - loss: 0.0000e+00 - accuracy: 0.4195\n",
            "Epoch 3/50\n",
            "12/12 [==============================] - 0s 3ms/step - loss: 0.0000e+00 - accuracy: 0.4473\n",
            "Epoch 4/50\n",
            "12/12 [==============================] - 0s 2ms/step - loss: 0.0000e+00 - accuracy: 0.4106\n",
            "Epoch 5/50\n",
            "12/12 [==============================] - 0s 2ms/step - loss: 0.0000e+00 - accuracy: 0.4408\n",
            "Epoch 6/50\n",
            "12/12 [==============================] - 0s 2ms/step - loss: 0.0000e+00 - accuracy: 0.4211\n",
            "Epoch 7/50\n",
            "12/12 [==============================] - 0s 2ms/step - loss: 0.0000e+00 - accuracy: 0.4407\n",
            "Epoch 8/50\n",
            "12/12 [==============================] - 0s 2ms/step - loss: 0.0000e+00 - accuracy: 0.4174\n",
            "Epoch 9/50\n",
            "12/12 [==============================] - 0s 2ms/step - loss: 0.0000e+00 - accuracy: 0.4525\n",
            "Epoch 10/50\n",
            "12/12 [==============================] - 0s 2ms/step - loss: 0.0000e+00 - accuracy: 0.4126\n",
            "Epoch 11/50\n",
            "12/12 [==============================] - 0s 2ms/step - loss: 0.0000e+00 - accuracy: 0.4301\n",
            "Epoch 12/50\n",
            "12/12 [==============================] - 0s 2ms/step - loss: 0.0000e+00 - accuracy: 0.4228\n",
            "Epoch 13/50\n",
            "12/12 [==============================] - 0s 2ms/step - loss: 0.0000e+00 - accuracy: 0.4290\n",
            "Epoch 14/50\n",
            "12/12 [==============================] - 0s 2ms/step - loss: 0.0000e+00 - accuracy: 0.4507\n",
            "Epoch 15/50\n",
            "12/12 [==============================] - 0s 2ms/step - loss: 0.0000e+00 - accuracy: 0.4611\n",
            "Epoch 16/50\n",
            "12/12 [==============================] - 0s 2ms/step - loss: 0.0000e+00 - accuracy: 0.4033\n",
            "Epoch 17/50\n",
            "12/12 [==============================] - 0s 2ms/step - loss: 0.0000e+00 - accuracy: 0.4247\n",
            "Epoch 18/50\n",
            "12/12 [==============================] - 0s 2ms/step - loss: 0.0000e+00 - accuracy: 0.4239\n",
            "Epoch 19/50\n",
            "12/12 [==============================] - 0s 2ms/step - loss: 0.0000e+00 - accuracy: 0.4265\n",
            "Epoch 20/50\n",
            "12/12 [==============================] - 0s 2ms/step - loss: 0.0000e+00 - accuracy: 0.4352\n",
            "Epoch 21/50\n",
            "12/12 [==============================] - 0s 2ms/step - loss: 0.0000e+00 - accuracy: 0.4153\n",
            "Epoch 22/50\n",
            "12/12 [==============================] - 0s 2ms/step - loss: 0.0000e+00 - accuracy: 0.4125\n",
            "Epoch 23/50\n",
            "12/12 [==============================] - 0s 2ms/step - loss: 0.0000e+00 - accuracy: 0.4292\n",
            "Epoch 24/50\n",
            "12/12 [==============================] - 0s 2ms/step - loss: 0.0000e+00 - accuracy: 0.4218\n",
            "Epoch 25/50\n",
            "12/12 [==============================] - 0s 2ms/step - loss: 0.0000e+00 - accuracy: 0.4034\n",
            "Epoch 26/50\n",
            "12/12 [==============================] - 0s 2ms/step - loss: 0.0000e+00 - accuracy: 0.4151\n",
            "Epoch 27/50\n",
            "12/12 [==============================] - 0s 2ms/step - loss: 0.0000e+00 - accuracy: 0.4524\n",
            "Epoch 28/50\n",
            "12/12 [==============================] - 0s 2ms/step - loss: 0.0000e+00 - accuracy: 0.4313\n",
            "Epoch 29/50\n",
            "12/12 [==============================] - 0s 2ms/step - loss: 0.0000e+00 - accuracy: 0.4168\n",
            "Epoch 30/50\n",
            "12/12 [==============================] - 0s 2ms/step - loss: 0.0000e+00 - accuracy: 0.4076\n",
            "Epoch 31/50\n",
            "12/12 [==============================] - 0s 2ms/step - loss: 0.0000e+00 - accuracy: 0.4370\n",
            "Epoch 32/50\n",
            "12/12 [==============================] - 0s 2ms/step - loss: 0.0000e+00 - accuracy: 0.4074\n",
            "Epoch 33/50\n",
            "12/12 [==============================] - 0s 2ms/step - loss: 0.0000e+00 - accuracy: 0.4136\n",
            "Epoch 34/50\n",
            "12/12 [==============================] - 0s 2ms/step - loss: 0.0000e+00 - accuracy: 0.3673\n",
            "Epoch 35/50\n",
            "12/12 [==============================] - 0s 2ms/step - loss: 0.0000e+00 - accuracy: 0.4479\n",
            "Epoch 36/50\n",
            "12/12 [==============================] - 0s 3ms/step - loss: 0.0000e+00 - accuracy: 0.4186\n",
            "Epoch 37/50\n",
            "12/12 [==============================] - 0s 2ms/step - loss: 0.0000e+00 - accuracy: 0.4551\n",
            "Epoch 38/50\n",
            "12/12 [==============================] - 0s 2ms/step - loss: 0.0000e+00 - accuracy: 0.4458\n",
            "Epoch 39/50\n",
            "12/12 [==============================] - 0s 2ms/step - loss: 0.0000e+00 - accuracy: 0.4448\n",
            "Epoch 40/50\n",
            "12/12 [==============================] - 0s 2ms/step - loss: 0.0000e+00 - accuracy: 0.3965\n",
            "Epoch 41/50\n",
            "12/12 [==============================] - 0s 2ms/step - loss: 0.0000e+00 - accuracy: 0.4061\n",
            "Epoch 42/50\n",
            "12/12 [==============================] - 0s 2ms/step - loss: 0.0000e+00 - accuracy: 0.4104\n",
            "Epoch 43/50\n",
            "12/12 [==============================] - 0s 2ms/step - loss: 0.0000e+00 - accuracy: 0.4427\n",
            "Epoch 44/50\n",
            "12/12 [==============================] - 0s 2ms/step - loss: 0.0000e+00 - accuracy: 0.4510\n",
            "Epoch 45/50\n",
            "12/12 [==============================] - 0s 2ms/step - loss: 0.0000e+00 - accuracy: 0.4239\n",
            "Epoch 46/50\n",
            "12/12 [==============================] - 0s 2ms/step - loss: 0.0000e+00 - accuracy: 0.4355\n",
            "Epoch 47/50\n",
            "12/12 [==============================] - 0s 2ms/step - loss: 0.0000e+00 - accuracy: 0.4408\n",
            "Epoch 48/50\n",
            "12/12 [==============================] - 0s 2ms/step - loss: 0.0000e+00 - accuracy: 0.4360\n",
            "Epoch 49/50\n",
            "12/12 [==============================] - 0s 2ms/step - loss: 0.0000e+00 - accuracy: 0.3901\n",
            "Epoch 50/50\n",
            "12/12 [==============================] - 0s 2ms/step - loss: 0.0000e+00 - accuracy: 0.4253\n"
          ],
          "name": "stdout"
        },
        {
          "output_type": "execute_result",
          "data": {
            "text/plain": [
              "<tensorflow.python.keras.callbacks.History at 0x7f9783e81090>"
            ]
          },
          "metadata": {
            "tags": []
          },
          "execution_count": 82
        }
      ]
    },
    {
      "cell_type": "markdown",
      "metadata": {
        "id": "qDe9Lzm7am4-"
      },
      "source": [
        "#**K Neighber Classifier**"
      ]
    },
    {
      "cell_type": "code",
      "metadata": {
        "colab": {
          "base_uri": "https://localhost:8080/"
        },
        "id": "MKdjAs4Hac6v",
        "outputId": "f946d7ed-3843-43ab-e13e-1d7e21a138ab"
      },
      "source": [
        "from sklearn.neighbors import KNeighborsClassifier\n",
        "from sklearn.metrics import classification_report, confusion_matrix, \\\n",
        "f1_score, jaccard_similarity_score\n",
        "\n",
        "\n",
        "\n",
        "\n",
        "for k in range(1,11):\n",
        "  knn_model = KNeighborsClassifier(n_neighbors=k)\n",
        "  knn_model.fit(x_train, y_train)\n",
        "\n",
        "  knn_result = knn_model.predict(x_test)\n",
        "\n",
        "  print(\"Confusion Matrix -->\")\n",
        "  print(confusion_matrix(y_test, knn_result))\n",
        "\n",
        "  print(\"Classification Report -->\")\n",
        "  print(classification_report(y_test, knn_result))\n",
        "  print(\"Accuricy : \",jaccard_similarity_score(y_test, knn_result))\n",
        "  print(\"Train set Accuricy\", jaccard_similarity_score(y_train, knn_model.predict(x_train)))\n",
        "\n",
        "\n",
        "\n",
        "knn_model = KNeighborsClassifier(n_neighbors=1)\n",
        "knn_model.fit(x_train, y_train)\n",
        "knn_result = knn_model.predict(x_test)\n",
        "print(\"Confusion Matrix -->\")\n",
        "print(confusion_matrix(y_test, knn_result))\n",
        "\n",
        "print(\"Classification Report -->\")\n",
        "print(classification_report(y_test, knn_result))\n",
        "print(\"Accuricy : \",jaccard_similarity_score(y_test, knn_result))\n",
        "print(\"Train set Accuricy\", jaccard_similarity_score(y_train, knn_model.predict(x_train)))"
      ],
      "execution_count": 120,
      "outputs": [
        {
          "output_type": "stream",
          "text": [
            "Confusion Matrix -->\n",
            "[[31  0  2]\n",
            " [ 0 28  0]\n",
            " [ 0  0  3]]\n",
            "Classification Report -->\n",
            "              precision    recall  f1-score   support\n",
            "\n",
            "           1       1.00      0.94      0.97        33\n",
            "           2       1.00      1.00      1.00        28\n",
            "           3       0.60      1.00      0.75         3\n",
            "\n",
            "    accuracy                           0.97        64\n",
            "   macro avg       0.87      0.98      0.91        64\n",
            "weighted avg       0.98      0.97      0.97        64\n",
            "\n",
            "Accuricy :  0.96875\n",
            "Train set Accuricy 1.0\n",
            "Confusion Matrix -->\n",
            "[[31  0  2]\n",
            " [13 15  0]\n",
            " [ 1  2  0]]\n",
            "Classification Report -->\n",
            "              precision    recall  f1-score   support\n",
            "\n",
            "           1       0.69      0.94      0.79        33\n",
            "           2       0.88      0.54      0.67        28\n",
            "           3       0.00      0.00      0.00         3\n",
            "\n",
            "    accuracy                           0.72        64\n",
            "   macro avg       0.52      0.49      0.49        64\n",
            "weighted avg       0.74      0.72      0.70        64\n",
            "\n",
            "Accuricy :  0.71875\n",
            "Train set Accuricy 0.9553072625698324\n",
            "Confusion Matrix -->\n",
            "[[24  7  2]\n",
            " [13 14  1]\n",
            " [ 1  2  0]]\n",
            "Classification Report -->\n",
            "              precision    recall  f1-score   support\n",
            "\n",
            "           1       0.63      0.73      0.68        33\n",
            "           2       0.61      0.50      0.55        28\n",
            "           3       0.00      0.00      0.00         3\n",
            "\n",
            "    accuracy                           0.59        64\n",
            "   macro avg       0.41      0.41      0.41        64\n",
            "weighted avg       0.59      0.59      0.59        64\n",
            "\n",
            "Accuricy :  0.59375\n",
            "Train set Accuricy 0.9329608938547486\n",
            "Confusion Matrix -->\n",
            "[[30  3  0]\n",
            " [15 13  0]\n",
            " [ 1  2  0]]\n",
            "Classification Report -->\n",
            "              precision    recall  f1-score   support\n",
            "\n",
            "           1       0.65      0.91      0.76        33\n",
            "           2       0.72      0.46      0.57        28\n",
            "           3       0.00      0.00      0.00         3\n",
            "\n",
            "    accuracy                           0.67        64\n",
            "   macro avg       0.46      0.46      0.44        64\n",
            "weighted avg       0.65      0.67      0.64        64\n",
            "\n",
            "Accuricy :  0.671875\n",
            "Train set Accuricy 0.7625698324022346\n",
            "Confusion Matrix -->\n",
            "[[28  3  2]\n",
            " [12 16  0]\n",
            " [ 1  2  0]]\n",
            "Classification Report -->\n",
            "              precision    recall  f1-score   support\n",
            "\n",
            "           1       0.68      0.85      0.76        33\n",
            "           2       0.76      0.57      0.65        28\n",
            "           3       0.00      0.00      0.00         3\n",
            "\n",
            "    accuracy                           0.69        64\n",
            "   macro avg       0.48      0.47      0.47        64\n",
            "weighted avg       0.69      0.69      0.68        64\n",
            "\n",
            "Accuricy :  0.6875\n",
            "Train set Accuricy 0.7374301675977654\n",
            "Confusion Matrix -->\n",
            "[[29  2  2]\n",
            " [13 15  0]\n",
            " [ 1  1  1]]\n",
            "Classification Report -->\n",
            "              precision    recall  f1-score   support\n",
            "\n",
            "           1       0.67      0.88      0.76        33\n",
            "           2       0.83      0.54      0.65        28\n",
            "           3       0.33      0.33      0.33         3\n",
            "\n",
            "    accuracy                           0.70        64\n",
            "   macro avg       0.61      0.58      0.58        64\n",
            "weighted avg       0.73      0.70      0.69        64\n",
            "\n",
            "Accuricy :  0.703125\n",
            "Train set Accuricy 0.7178770949720671\n",
            "Confusion Matrix -->\n",
            "[[25  6  2]\n",
            " [11 17  0]\n",
            " [ 1  2  0]]\n"
          ],
          "name": "stdout"
        },
        {
          "output_type": "stream",
          "text": [
            "/usr/local/lib/python3.7/dist-packages/sklearn/metrics/_classification.py:664: FutureWarning: jaccard_similarity_score has been deprecated and replaced with jaccard_score. It will be removed in version 0.23. This implementation has surprising behavior for binary and multiclass classification tasks.\n",
            "  FutureWarning)\n",
            "/usr/local/lib/python3.7/dist-packages/sklearn/metrics/_classification.py:664: FutureWarning: jaccard_similarity_score has been deprecated and replaced with jaccard_score. It will be removed in version 0.23. This implementation has surprising behavior for binary and multiclass classification tasks.\n",
            "  FutureWarning)\n",
            "/usr/local/lib/python3.7/dist-packages/sklearn/metrics/_classification.py:664: FutureWarning: jaccard_similarity_score has been deprecated and replaced with jaccard_score. It will be removed in version 0.23. This implementation has surprising behavior for binary and multiclass classification tasks.\n",
            "  FutureWarning)\n",
            "/usr/local/lib/python3.7/dist-packages/sklearn/metrics/_classification.py:664: FutureWarning: jaccard_similarity_score has been deprecated and replaced with jaccard_score. It will be removed in version 0.23. This implementation has surprising behavior for binary and multiclass classification tasks.\n",
            "  FutureWarning)\n",
            "/usr/local/lib/python3.7/dist-packages/sklearn/metrics/_classification.py:664: FutureWarning: jaccard_similarity_score has been deprecated and replaced with jaccard_score. It will be removed in version 0.23. This implementation has surprising behavior for binary and multiclass classification tasks.\n",
            "  FutureWarning)\n",
            "/usr/local/lib/python3.7/dist-packages/sklearn/metrics/_classification.py:664: FutureWarning: jaccard_similarity_score has been deprecated and replaced with jaccard_score. It will be removed in version 0.23. This implementation has surprising behavior for binary and multiclass classification tasks.\n",
            "  FutureWarning)\n",
            "/usr/local/lib/python3.7/dist-packages/sklearn/metrics/_classification.py:1272: UndefinedMetricWarning: Precision and F-score are ill-defined and being set to 0.0 in labels with no predicted samples. Use `zero_division` parameter to control this behavior.\n",
            "  _warn_prf(average, modifier, msg_start, len(result))\n",
            "/usr/local/lib/python3.7/dist-packages/sklearn/metrics/_classification.py:664: FutureWarning: jaccard_similarity_score has been deprecated and replaced with jaccard_score. It will be removed in version 0.23. This implementation has surprising behavior for binary and multiclass classification tasks.\n",
            "  FutureWarning)\n",
            "/usr/local/lib/python3.7/dist-packages/sklearn/metrics/_classification.py:664: FutureWarning: jaccard_similarity_score has been deprecated and replaced with jaccard_score. It will be removed in version 0.23. This implementation has surprising behavior for binary and multiclass classification tasks.\n",
            "  FutureWarning)\n",
            "/usr/local/lib/python3.7/dist-packages/sklearn/metrics/_classification.py:664: FutureWarning: jaccard_similarity_score has been deprecated and replaced with jaccard_score. It will be removed in version 0.23. This implementation has surprising behavior for binary and multiclass classification tasks.\n",
            "  FutureWarning)\n",
            "/usr/local/lib/python3.7/dist-packages/sklearn/metrics/_classification.py:664: FutureWarning: jaccard_similarity_score has been deprecated and replaced with jaccard_score. It will be removed in version 0.23. This implementation has surprising behavior for binary and multiclass classification tasks.\n",
            "  FutureWarning)\n",
            "/usr/local/lib/python3.7/dist-packages/sklearn/metrics/_classification.py:664: FutureWarning: jaccard_similarity_score has been deprecated and replaced with jaccard_score. It will be removed in version 0.23. This implementation has surprising behavior for binary and multiclass classification tasks.\n",
            "  FutureWarning)\n",
            "/usr/local/lib/python3.7/dist-packages/sklearn/metrics/_classification.py:664: FutureWarning: jaccard_similarity_score has been deprecated and replaced with jaccard_score. It will be removed in version 0.23. This implementation has surprising behavior for binary and multiclass classification tasks.\n",
            "  FutureWarning)\n"
          ],
          "name": "stderr"
        },
        {
          "output_type": "stream",
          "text": [
            "Classification Report -->\n",
            "              precision    recall  f1-score   support\n",
            "\n",
            "           1       0.68      0.76      0.71        33\n",
            "           2       0.68      0.61      0.64        28\n",
            "           3       0.00      0.00      0.00         3\n",
            "\n",
            "    accuracy                           0.66        64\n",
            "   macro avg       0.45      0.45      0.45        64\n",
            "weighted avg       0.65      0.66      0.65        64\n",
            "\n",
            "Accuricy :  0.65625\n",
            "Train set Accuricy 0.6983240223463687\n",
            "Confusion Matrix -->\n",
            "[[28  3  2]\n",
            " [11 17  0]\n",
            " [ 1  2  0]]\n",
            "Classification Report -->\n",
            "              precision    recall  f1-score   support\n",
            "\n",
            "           1       0.70      0.85      0.77        33\n",
            "           2       0.77      0.61      0.68        28\n",
            "           3       0.00      0.00      0.00         3\n",
            "\n",
            "    accuracy                           0.70        64\n",
            "   macro avg       0.49      0.49      0.48        64\n",
            "weighted avg       0.70      0.70      0.69        64\n",
            "\n",
            "Accuricy :  0.703125\n",
            "Train set Accuricy 0.7122905027932961\n",
            "Confusion Matrix -->\n",
            "[[24  6  3]\n",
            " [10 16  2]\n",
            " [ 1  2  0]]\n",
            "Classification Report -->\n",
            "              precision    recall  f1-score   support\n",
            "\n",
            "           1       0.69      0.73      0.71        33\n",
            "           2       0.67      0.57      0.62        28\n",
            "           3       0.00      0.00      0.00         3\n",
            "\n",
            "    accuracy                           0.62        64\n",
            "   macro avg       0.45      0.43      0.44        64\n",
            "weighted avg       0.65      0.62      0.63        64\n",
            "\n",
            "Accuricy :  0.625\n",
            "Train set Accuricy 0.7039106145251397\n",
            "Confusion Matrix -->\n",
            "[[25  5  3]\n",
            " [13 14  1]\n",
            " [ 1  2  0]]\n",
            "Classification Report -->\n",
            "              precision    recall  f1-score   support\n",
            "\n",
            "           1       0.64      0.76      0.69        33\n",
            "           2       0.67      0.50      0.57        28\n",
            "           3       0.00      0.00      0.00         3\n",
            "\n",
            "    accuracy                           0.61        64\n",
            "   macro avg       0.44      0.42      0.42        64\n",
            "weighted avg       0.62      0.61      0.61        64\n",
            "\n",
            "Accuricy :  0.609375\n",
            "Train set Accuricy 0.6843575418994413\n",
            "Confusion Matrix -->\n",
            "[[31  0  2]\n",
            " [ 0 28  0]\n",
            " [ 0  0  3]]\n",
            "Classification Report -->\n",
            "              precision    recall  f1-score   support\n",
            "\n",
            "           1       1.00      0.94      0.97        33\n",
            "           2       1.00      1.00      1.00        28\n",
            "           3       0.60      1.00      0.75         3\n",
            "\n",
            "    accuracy                           0.97        64\n",
            "   macro avg       0.87      0.98      0.91        64\n",
            "weighted avg       0.98      0.97      0.97        64\n",
            "\n",
            "Accuricy :  0.96875\n",
            "Train set Accuricy 1.0\n"
          ],
          "name": "stdout"
        },
        {
          "output_type": "stream",
          "text": [
            "/usr/local/lib/python3.7/dist-packages/sklearn/metrics/_classification.py:664: FutureWarning: jaccard_similarity_score has been deprecated and replaced with jaccard_score. It will be removed in version 0.23. This implementation has surprising behavior for binary and multiclass classification tasks.\n",
            "  FutureWarning)\n",
            "/usr/local/lib/python3.7/dist-packages/sklearn/metrics/_classification.py:664: FutureWarning: jaccard_similarity_score has been deprecated and replaced with jaccard_score. It will be removed in version 0.23. This implementation has surprising behavior for binary and multiclass classification tasks.\n",
            "  FutureWarning)\n",
            "/usr/local/lib/python3.7/dist-packages/sklearn/metrics/_classification.py:664: FutureWarning: jaccard_similarity_score has been deprecated and replaced with jaccard_score. It will be removed in version 0.23. This implementation has surprising behavior for binary and multiclass classification tasks.\n",
            "  FutureWarning)\n",
            "/usr/local/lib/python3.7/dist-packages/sklearn/metrics/_classification.py:664: FutureWarning: jaccard_similarity_score has been deprecated and replaced with jaccard_score. It will be removed in version 0.23. This implementation has surprising behavior for binary and multiclass classification tasks.\n",
            "  FutureWarning)\n",
            "/usr/local/lib/python3.7/dist-packages/sklearn/metrics/_classification.py:664: FutureWarning: jaccard_similarity_score has been deprecated and replaced with jaccard_score. It will be removed in version 0.23. This implementation has surprising behavior for binary and multiclass classification tasks.\n",
            "  FutureWarning)\n",
            "/usr/local/lib/python3.7/dist-packages/sklearn/metrics/_classification.py:664: FutureWarning: jaccard_similarity_score has been deprecated and replaced with jaccard_score. It will be removed in version 0.23. This implementation has surprising behavior for binary and multiclass classification tasks.\n",
            "  FutureWarning)\n",
            "/usr/local/lib/python3.7/dist-packages/sklearn/metrics/_classification.py:664: FutureWarning: jaccard_similarity_score has been deprecated and replaced with jaccard_score. It will be removed in version 0.23. This implementation has surprising behavior for binary and multiclass classification tasks.\n",
            "  FutureWarning)\n",
            "/usr/local/lib/python3.7/dist-packages/sklearn/metrics/_classification.py:664: FutureWarning: jaccard_similarity_score has been deprecated and replaced with jaccard_score. It will be removed in version 0.23. This implementation has surprising behavior for binary and multiclass classification tasks.\n",
            "  FutureWarning)\n",
            "/usr/local/lib/python3.7/dist-packages/sklearn/metrics/_classification.py:664: FutureWarning: jaccard_similarity_score has been deprecated and replaced with jaccard_score. It will be removed in version 0.23. This implementation has surprising behavior for binary and multiclass classification tasks.\n",
            "  FutureWarning)\n",
            "/usr/local/lib/python3.7/dist-packages/sklearn/metrics/_classification.py:664: FutureWarning: jaccard_similarity_score has been deprecated and replaced with jaccard_score. It will be removed in version 0.23. This implementation has surprising behavior for binary and multiclass classification tasks.\n",
            "  FutureWarning)\n"
          ],
          "name": "stderr"
        }
      ]
    },
    {
      "cell_type": "code",
      "metadata": {
        "id": "RfNWdh4capWH"
      },
      "source": [
        "knn_result = knn_model.predict(x_test)"
      ],
      "execution_count": 121,
      "outputs": []
    },
    {
      "cell_type": "code",
      "metadata": {
        "colab": {
          "base_uri": "https://localhost:8080/"
        },
        "id": "AU6bvW0wawwo",
        "outputId": "db66c01d-6fb8-423e-911d-536bf718f487"
      },
      "source": [
        "from sklearn.metrics import classification_report, confusion_matrix, \\\n",
        "f1_score, jaccard_similarity_score\n",
        "print(\"Confusion Matrix -->\")\n",
        "cmk = confusion_matrix(y_test, knn_result)\n",
        "print(cmk)\n",
        "\n",
        "print(\"Classification Report -->\")\n",
        "print(classification_report(y_test, knn_result))"
      ],
      "execution_count": 122,
      "outputs": [
        {
          "output_type": "stream",
          "text": [
            "Confusion Matrix -->\n",
            "[[31  0  2]\n",
            " [ 0 28  0]\n",
            " [ 0  0  3]]\n",
            "Classification Report -->\n",
            "              precision    recall  f1-score   support\n",
            "\n",
            "           1       1.00      0.94      0.97        33\n",
            "           2       1.00      1.00      1.00        28\n",
            "           3       0.60      1.00      0.75         3\n",
            "\n",
            "    accuracy                           0.97        64\n",
            "   macro avg       0.87      0.98      0.91        64\n",
            "weighted avg       0.98      0.97      0.97        64\n",
            "\n"
          ],
          "name": "stdout"
        }
      ]
    },
    {
      "cell_type": "code",
      "metadata": {
        "colab": {
          "base_uri": "https://localhost:8080/"
        },
        "id": "t8kjWYQZayhv",
        "outputId": "ce6199cb-c97f-4cdb-da0f-bd66f6f07f29"
      },
      "source": [
        "print(\"Accuricy : \",jaccard_similarity_score(y_test, knn_result)*100)"
      ],
      "execution_count": 130,
      "outputs": [
        {
          "output_type": "stream",
          "text": [
            "Accuricy :  96.875\n"
          ],
          "name": "stdout"
        },
        {
          "output_type": "stream",
          "text": [
            "/usr/local/lib/python3.7/dist-packages/sklearn/metrics/_classification.py:664: FutureWarning: jaccard_similarity_score has been deprecated and replaced with jaccard_score. It will be removed in version 0.23. This implementation has surprising behavior for binary and multiclass classification tasks.\n",
            "  FutureWarning)\n"
          ],
          "name": "stderr"
        }
      ]
    },
    {
      "cell_type": "code",
      "metadata": {
        "colab": {
          "base_uri": "https://localhost:8080/",
          "height": 465
        },
        "id": "z1qmPcHPa263",
        "outputId": "d4b767a1-38a1-451b-f084-dad9364ac403"
      },
      "source": [
        "import seaborn as sn\n",
        "sn.set()\n",
        "plt.figure(figsize=(10,7))\n",
        "sn.heatmap(cmk,annot=True)\n",
        "plt.xlabel('Predicted')\n",
        "plt.ylabel('Truth')"
      ],
      "execution_count": 124,
      "outputs": [
        {
          "output_type": "execute_result",
          "data": {
            "text/plain": [
              "Text(66.5, 0.5, 'Truth')"
            ]
          },
          "metadata": {
            "tags": []
          },
          "execution_count": 124
        },
        {
          "output_type": "display_data",
          "data": {
            "image/png": "[encoded data removed]",
            "text/plain": [
              "<Figure size 720x504 with 2 Axes>"
            ]
          },
          "metadata": {
            "tags": []
          }
        }
      ]
    },
    {
      "cell_type": "markdown",
      "metadata": {
        "id": "i1vnuZxEa65t"
      },
      "source": [
        "#**Support Vector Machine**"
      ]
    },
    {
      "cell_type": "code",
      "metadata": {
        "colab": {
          "base_uri": "https://localhost:8080/"
        },
        "id": "6zxl3R1La4ng",
        "outputId": "c006e69f-49c3-4de9-e38b-978d34dfdcdf"
      },
      "source": [
        "from sklearn import svm\n",
        "svm_model = svm.SVC(C= 20, gamma= 'auto', kernel='rbf')\n",
        "svm_model.fit(x_train, y_train)"
      ],
      "execution_count": 125,
      "outputs": [
        {
          "output_type": "execute_result",
          "data": {
            "text/plain": [
              "SVC(C=20, break_ties=False, cache_size=200, class_weight=None, coef0=0.0,\n",
              "    decision_function_shape='ovr', degree=3, gamma='auto', kernel='rbf',\n",
              "    max_iter=-1, probability=False, random_state=None, shrinking=True,\n",
              "    tol=0.001, verbose=False)"
            ]
          },
          "metadata": {
            "tags": []
          },
          "execution_count": 125
        }
      ]
    },
    {
      "cell_type": "code",
      "metadata": {
        "colab": {
          "base_uri": "https://localhost:8080/"
        },
        "id": "577QLGV1a89w",
        "outputId": "63be291f-5941-4df4-da71-98ff972a3f66"
      },
      "source": [
        "svm_result = svm_model.predict(x_test)\n",
        "print(\"Confusion Matrix : \")\n",
        "cms = confusion_matrix(y_test, svm_result)\n",
        "print(cms)\n",
        "print(classification_report(y_test, svm_result))\n",
        "print(\"Jaccard index : \", jaccard_similarity_score(y_test, svm_result)*100)"
      ],
      "execution_count": 126,
      "outputs": [
        {
          "output_type": "stream",
          "text": [
            "Confusion Matrix : \n",
            "[[31  2  0]\n",
            " [ 0 28  0]\n",
            " [ 0  0  3]]\n",
            "              precision    recall  f1-score   support\n",
            "\n",
            "           1       1.00      0.94      0.97        33\n",
            "           2       0.93      1.00      0.97        28\n",
            "           3       1.00      1.00      1.00         3\n",
            "\n",
            "    accuracy                           0.97        64\n",
            "   macro avg       0.98      0.98      0.98        64\n",
            "weighted avg       0.97      0.97      0.97        64\n",
            "\n",
            "Jaccard index :  96.875\n"
          ],
          "name": "stdout"
        },
        {
          "output_type": "stream",
          "text": [
            "/usr/local/lib/python3.7/dist-packages/sklearn/metrics/_classification.py:664: FutureWarning: jaccard_similarity_score has been deprecated and replaced with jaccard_score. It will be removed in version 0.23. This implementation has surprising behavior for binary and multiclass classification tasks.\n",
            "  FutureWarning)\n"
          ],
          "name": "stderr"
        }
      ]
    },
    {
      "cell_type": "code",
      "metadata": {
        "colab": {
          "base_uri": "https://localhost:8080/",
          "height": 465
        },
        "id": "P7S7fug0a_jo",
        "outputId": "475dc45b-d4e5-4f51-e25a-dd95de7ea935"
      },
      "source": [
        "import seaborn as sn\n",
        "sn.set()\n",
        "plt.figure(figsize=(10,7))\n",
        "sn.heatmap(cms,annot=True)\n",
        "plt.xlabel('Predicted')\n",
        "plt.ylabel('Truth')"
      ],
      "execution_count": 127,
      "outputs": [
        {
          "output_type": "execute_result",
          "data": {
            "text/plain": [
              "Text(66.5, 0.5, 'Truth')"
            ]
          },
          "metadata": {
            "tags": []
          },
          "execution_count": 127
        },
        {
          "output_type": "display_data",
          "data": {
            "image/png": "[encoded data removed]",
            "text/plain": [
              "<Figure size 720x504 with 2 Axes>"
            ]
          },
          "metadata": {
            "tags": []
          }
        }
      ]
    },
    {
      "cell_type": "code",
      "metadata": {
        "id": "k8n4t-8bisqj"
      },
      "source": [
        "from sklearn.model_selection import GridSearchCV\n",
        "clf = GridSearchCV(svm_model, {\n",
        "    'C': [1,2,3, 10, 20],\n",
        "    'kernel': ['linear', 'poly', 'rbf'],\n",
        "    'gamma': ['scale', 'auto']\n",
        "}, cv=5, return_train_score=False)\n",
        "clf.fit(X, y)\n",
        "result = clf.cv_results_"
      ],
      "execution_count": 128,
      "outputs": []
    },
    {
      "cell_type": "code",
      "metadata": {
        "colab": {
          "base_uri": "https://localhost:8080/",
          "height": 979
        },
        "id": "gDLE-YncjUfp",
        "outputId": "2fc45806-8581-471c-88f6-41c29ee2258e"
      },
      "source": [
        "df = pd.DataFrame(result)\n",
        "df[['params', 'mean_test_score']]"
      ],
      "execution_count": 92,
      "outputs": [
        {
          "output_type": "execute_result",
          "data": {
            "text/html": [
              "<div>\n",
              "<style scoped>\n",
              "    .dataframe tbody tr th:only-of-type {\n",
              "        vertical-align: middle;\n",
              "    }\n",
              "\n",
              "    .dataframe tbody tr th {\n",
              "        vertical-align: top;\n",
              "    }\n",
              "\n",
              "    .dataframe thead th {\n",
              "        text-align: right;\n",
              "    }\n",
              "</style>\n",
              "<table border=\"1\" class=\"dataframe\">\n",
              "  <thead>\n",
              "    <tr style=\"text-align: right;\">\n",
              "      <th></th>\n",
              "      <th>params</th>\n",
              "      <th>mean_test_score</th>\n",
              "    </tr>\n",
              "  </thead>\n",
              "  <tbody>\n",
              "    <tr>\n",
              "      <th>0</th>\n",
              "      <td>{'C': 1, 'gamma': 'scale', 'kernel': 'linear'}</td>\n",
              "      <td>0.684846</td>\n",
              "    </tr>\n",
              "    <tr>\n",
              "      <th>1</th>\n",
              "      <td>{'C': 1, 'gamma': 'scale', 'kernel': 'poly'}</td>\n",
              "      <td>0.535546</td>\n",
              "    </tr>\n",
              "    <tr>\n",
              "      <th>2</th>\n",
              "      <td>{'C': 1, 'gamma': 'scale', 'kernel': 'rbf'}</td>\n",
              "      <td>0.540336</td>\n",
              "    </tr>\n",
              "    <tr>\n",
              "      <th>3</th>\n",
              "      <td>{'C': 1, 'gamma': 'auto', 'kernel': 'linear'}</td>\n",
              "      <td>0.684846</td>\n",
              "    </tr>\n",
              "    <tr>\n",
              "      <th>4</th>\n",
              "      <td>{'C': 1, 'gamma': 'auto', 'kernel': 'poly'}</td>\n",
              "      <td>1.000000</td>\n",
              "    </tr>\n",
              "    <tr>\n",
              "      <th>5</th>\n",
              "      <td>{'C': 1, 'gamma': 'auto', 'kernel': 'rbf'}</td>\n",
              "      <td>0.890896</td>\n",
              "    </tr>\n",
              "    <tr>\n",
              "      <th>6</th>\n",
              "      <td>{'C': 2, 'gamma': 'scale', 'kernel': 'linear'}</td>\n",
              "      <td>0.682493</td>\n",
              "    </tr>\n",
              "    <tr>\n",
              "      <th>7</th>\n",
              "      <td>{'C': 2, 'gamma': 'scale', 'kernel': 'poly'}</td>\n",
              "      <td>0.554538</td>\n",
              "    </tr>\n",
              "    <tr>\n",
              "      <th>8</th>\n",
              "      <td>{'C': 2, 'gamma': 'scale', 'kernel': 'rbf'}</td>\n",
              "      <td>0.552213</td>\n",
              "    </tr>\n",
              "    <tr>\n",
              "      <th>9</th>\n",
              "      <td>{'C': 2, 'gamma': 'auto', 'kernel': 'linear'}</td>\n",
              "      <td>0.682493</td>\n",
              "    </tr>\n",
              "    <tr>\n",
              "      <th>10</th>\n",
              "      <td>{'C': 2, 'gamma': 'auto', 'kernel': 'poly'}</td>\n",
              "      <td>1.000000</td>\n",
              "    </tr>\n",
              "    <tr>\n",
              "      <th>11</th>\n",
              "      <td>{'C': 2, 'gamma': 'auto', 'kernel': 'rbf'}</td>\n",
              "      <td>0.943081</td>\n",
              "    </tr>\n",
              "    <tr>\n",
              "      <th>12</th>\n",
              "      <td>{'C': 3, 'gamma': 'scale', 'kernel': 'linear'}</td>\n",
              "      <td>0.680168</td>\n",
              "    </tr>\n",
              "    <tr>\n",
              "      <th>13</th>\n",
              "      <td>{'C': 3, 'gamma': 'scale', 'kernel': 'poly'}</td>\n",
              "      <td>0.568768</td>\n",
              "    </tr>\n",
              "    <tr>\n",
              "      <th>14</th>\n",
              "      <td>{'C': 3, 'gamma': 'scale', 'kernel': 'rbf'}</td>\n",
              "      <td>0.568852</td>\n",
              "    </tr>\n",
              "    <tr>\n",
              "      <th>15</th>\n",
              "      <td>{'C': 3, 'gamma': 'auto', 'kernel': 'linear'}</td>\n",
              "      <td>0.680168</td>\n",
              "    </tr>\n",
              "    <tr>\n",
              "      <th>16</th>\n",
              "      <td>{'C': 3, 'gamma': 'auto', 'kernel': 'poly'}</td>\n",
              "      <td>1.000000</td>\n",
              "    </tr>\n",
              "    <tr>\n",
              "      <th>17</th>\n",
              "      <td>{'C': 3, 'gamma': 'auto', 'kernel': 'rbf'}</td>\n",
              "      <td>0.973866</td>\n",
              "    </tr>\n",
              "    <tr>\n",
              "      <th>18</th>\n",
              "      <td>{'C': 10, 'gamma': 'scale', 'kernel': 'linear'}</td>\n",
              "      <td>0.680140</td>\n",
              "    </tr>\n",
              "    <tr>\n",
              "      <th>19</th>\n",
              "      <td>{'C': 10, 'gamma': 'scale', 'kernel': 'poly'}</td>\n",
              "      <td>0.620896</td>\n",
              "    </tr>\n",
              "    <tr>\n",
              "      <th>20</th>\n",
              "      <td>{'C': 10, 'gamma': 'scale', 'kernel': 'rbf'}</td>\n",
              "      <td>0.670756</td>\n",
              "    </tr>\n",
              "    <tr>\n",
              "      <th>21</th>\n",
              "      <td>{'C': 10, 'gamma': 'auto', 'kernel': 'linear'}</td>\n",
              "      <td>0.680140</td>\n",
              "    </tr>\n",
              "    <tr>\n",
              "      <th>22</th>\n",
              "      <td>{'C': 10, 'gamma': 'auto', 'kernel': 'poly'}</td>\n",
              "      <td>1.000000</td>\n",
              "    </tr>\n",
              "    <tr>\n",
              "      <th>23</th>\n",
              "      <td>{'C': 10, 'gamma': 'auto', 'kernel': 'rbf'}</td>\n",
              "      <td>1.000000</td>\n",
              "    </tr>\n",
              "    <tr>\n",
              "      <th>24</th>\n",
              "      <td>{'C': 20, 'gamma': 'scale', 'kernel': 'linear'}</td>\n",
              "      <td>0.677787</td>\n",
              "    </tr>\n",
              "    <tr>\n",
              "      <th>25</th>\n",
              "      <td>{'C': 20, 'gamma': 'scale', 'kernel': 'poly'}</td>\n",
              "      <td>0.618571</td>\n",
              "    </tr>\n",
              "    <tr>\n",
              "      <th>26</th>\n",
              "      <td>{'C': 20, 'gamma': 'scale', 'kernel': 'rbf'}</td>\n",
              "      <td>0.675462</td>\n",
              "    </tr>\n",
              "    <tr>\n",
              "      <th>27</th>\n",
              "      <td>{'C': 20, 'gamma': 'auto', 'kernel': 'linear'}</td>\n",
              "      <td>0.677787</td>\n",
              "    </tr>\n",
              "    <tr>\n",
              "      <th>28</th>\n",
              "      <td>{'C': 20, 'gamma': 'auto', 'kernel': 'poly'}</td>\n",
              "      <td>1.000000</td>\n",
              "    </tr>\n",
              "    <tr>\n",
              "      <th>29</th>\n",
              "      <td>{'C': 20, 'gamma': 'auto', 'kernel': 'rbf'}</td>\n",
              "      <td>1.000000</td>\n",
              "    </tr>\n",
              "  </tbody>\n",
              "</table>\n",
              "</div>"
            ],
            "text/plain": [
              "                                             params  mean_test_score\n",
              "0    {'C': 1, 'gamma': 'scale', 'kernel': 'linear'}         0.684846\n",
              "1      {'C': 1, 'gamma': 'scale', 'kernel': 'poly'}         0.535546\n",
              "2       {'C': 1, 'gamma': 'scale', 'kernel': 'rbf'}         0.540336\n",
              "3     {'C': 1, 'gamma': 'auto', 'kernel': 'linear'}         0.684846\n",
              "4       {'C': 1, 'gamma': 'auto', 'kernel': 'poly'}         1.000000\n",
              "5        {'C': 1, 'gamma': 'auto', 'kernel': 'rbf'}         0.890896\n",
              "6    {'C': 2, 'gamma': 'scale', 'kernel': 'linear'}         0.682493\n",
              "7      {'C': 2, 'gamma': 'scale', 'kernel': 'poly'}         0.554538\n",
              "8       {'C': 2, 'gamma': 'scale', 'kernel': 'rbf'}         0.552213\n",
              "9     {'C': 2, 'gamma': 'auto', 'kernel': 'linear'}         0.682493\n",
              "10      {'C': 2, 'gamma': 'auto', 'kernel': 'poly'}         1.000000\n",
              "11       {'C': 2, 'gamma': 'auto', 'kernel': 'rbf'}         0.943081\n",
              "12   {'C': 3, 'gamma': 'scale', 'kernel': 'linear'}         0.680168\n",
              "13     {'C': 3, 'gamma': 'scale', 'kernel': 'poly'}         0.568768\n",
              "14      {'C': 3, 'gamma': 'scale', 'kernel': 'rbf'}         0.568852\n",
              "15    {'C': 3, 'gamma': 'auto', 'kernel': 'linear'}         0.680168\n",
              "16      {'C': 3, 'gamma': 'auto', 'kernel': 'poly'}         1.000000\n",
              "17       {'C': 3, 'gamma': 'auto', 'kernel': 'rbf'}         0.973866\n",
              "18  {'C': 10, 'gamma': 'scale', 'kernel': 'linear'}         0.680140\n",
              "19    {'C': 10, 'gamma': 'scale', 'kernel': 'poly'}         0.620896\n",
              "20     {'C': 10, 'gamma': 'scale', 'kernel': 'rbf'}         0.670756\n",
              "21   {'C': 10, 'gamma': 'auto', 'kernel': 'linear'}         0.680140\n",
              "22     {'C': 10, 'gamma': 'auto', 'kernel': 'poly'}         1.000000\n",
              "23      {'C': 10, 'gamma': 'auto', 'kernel': 'rbf'}         1.000000\n",
              "24  {'C': 20, 'gamma': 'scale', 'kernel': 'linear'}         0.677787\n",
              "25    {'C': 20, 'gamma': 'scale', 'kernel': 'poly'}         0.618571\n",
              "26     {'C': 20, 'gamma': 'scale', 'kernel': 'rbf'}         0.675462\n",
              "27   {'C': 20, 'gamma': 'auto', 'kernel': 'linear'}         0.677787\n",
              "28     {'C': 20, 'gamma': 'auto', 'kernel': 'poly'}         1.000000\n",
              "29      {'C': 20, 'gamma': 'auto', 'kernel': 'rbf'}         1.000000"
            ]
          },
          "metadata": {
            "tags": []
          },
          "execution_count": 92
        }
      ]
    },
    {
      "cell_type": "markdown",
      "metadata": {
        "id": "lfOxPj0sbk6f"
      },
      "source": [
        "#**Logistic Regression**"
      ]
    },
    {
      "cell_type": "code",
      "metadata": {
        "id": "zx8uo5Kibb-P"
      },
      "source": [
        "from sklearn import linear_model\n",
        "log_reg = linear_model.LogisticRegression(solver='newton-cg')"
      ],
      "execution_count": 93,
      "outputs": []
    },
    {
      "cell_type": "code",
      "metadata": {
        "colab": {
          "base_uri": "https://localhost:8080/"
        },
        "id": "hZigxivRbm8v",
        "outputId": "899c1fc8-083f-4c78-9e85-02db3a8c21b8"
      },
      "source": [
        "log_reg.fit(x_train,y_train)"
      ],
      "execution_count": 94,
      "outputs": [
        {
          "output_type": "execute_result",
          "data": {
            "text/plain": [
              "LogisticRegression(C=1.0, class_weight=None, dual=False, fit_intercept=True,\n",
              "                   intercept_scaling=1, l1_ratio=None, max_iter=100,\n",
              "                   multi_class='auto', n_jobs=None, penalty='l2',\n",
              "                   random_state=None, solver='newton-cg', tol=0.0001, verbose=0,\n",
              "                   warm_start=False)"
            ]
          },
          "metadata": {
            "tags": []
          },
          "execution_count": 94
        }
      ]
    },
    {
      "cell_type": "code",
      "metadata": {
        "id": "TtvSgQYWbol5"
      },
      "source": [
        "log_predict = log_reg.predict(x_test)"
      ],
      "execution_count": 95,
      "outputs": []
    },
    {
      "cell_type": "code",
      "metadata": {
        "colab": {
          "base_uri": "https://localhost:8080/"
        },
        "id": "55acFSHybqzV",
        "outputId": "4e24d363-ce2c-4231-9ad6-dfb0729da0e3"
      },
      "source": [
        "accuracy_score(y_test, log_predict)*100"
      ],
      "execution_count": 96,
      "outputs": [
        {
          "output_type": "execute_result",
          "data": {
            "text/plain": [
              "64.0625"
            ]
          },
          "metadata": {
            "tags": []
          },
          "execution_count": 96
        }
      ]
    },
    {
      "cell_type": "code",
      "metadata": {
        "colab": {
          "base_uri": "https://localhost:8080/"
        },
        "id": "2KXPVj3jbse_",
        "outputId": "29a3ae31-780c-4275-e141-e16e0a33aae3"
      },
      "source": [
        "cmlr = confusion_matrix(y_test,log_predict)\n",
        "cmlr"
      ],
      "execution_count": 97,
      "outputs": [
        {
          "output_type": "execute_result",
          "data": {
            "text/plain": [
              "array([[20, 11,  2],\n",
              "       [ 6, 21,  1],\n",
              "       [ 1,  2,  0]])"
            ]
          },
          "metadata": {
            "tags": []
          },
          "execution_count": 97
        }
      ]
    },
    {
      "cell_type": "code",
      "metadata": {
        "colab": {
          "base_uri": "https://localhost:8080/",
          "height": 465
        },
        "id": "N2WPQDRSbudP",
        "outputId": "88b695ec-14fe-4fa3-ea69-c83aef5d626a"
      },
      "source": [
        "import seaborn as sn\n",
        "sn.set()\n",
        "plt.figure(figsize=(10,7))\n",
        "sn.heatmap(cmlr,annot=True)\n",
        "plt.xlabel('Predicted')\n",
        "plt.ylabel('Truth')"
      ],
      "execution_count": 98,
      "outputs": [
        {
          "output_type": "execute_result",
          "data": {
            "text/plain": [
              "Text(66.5, 0.5, 'Truth')"
            ]
          },
          "metadata": {
            "tags": []
          },
          "execution_count": 98
        },
        {
          "output_type": "display_data",
          "data": {
            "image/png": "[encoded data removed]",
            "text/plain": [
              "<Figure size 720x504 with 2 Axes>"
            ]
          },
          "metadata": {
            "tags": []
          }
        }
      ]
    },
    {
      "cell_type": "markdown",
      "metadata": {
        "id": "aWYgzBiRka9I"
      },
      "source": [
        "#**Naive Bayes**"
      ]
    },
    {
      "cell_type": "code",
      "metadata": {
        "id": "IJNirsVfkYj9"
      },
      "source": [
        "from sklearn.naive_bayes import GaussianNB,BernoulliNB\n",
        "gnb = GaussianNB()\n",
        "gnb.fit(x_train, y_train)\n",
        "y_pred = gnb.predict(x_test)"
      ],
      "execution_count": 106,
      "outputs": []
    },
    {
      "cell_type": "code",
      "metadata": {
        "colab": {
          "base_uri": "https://localhost:8080/"
        },
        "id": "mwxK7eUWkmdp",
        "outputId": "233677c2-9c98-402c-ca19-87270be8b57f"
      },
      "source": [
        "accuracy_score(y_test, y_pred)*100"
      ],
      "execution_count": 110,
      "outputs": [
        {
          "output_type": "execute_result",
          "data": {
            "text/plain": [
              "65.625"
            ]
          },
          "metadata": {
            "tags": []
          },
          "execution_count": 110
        }
      ]
    },
    {
      "cell_type": "code",
      "metadata": {
        "colab": {
          "base_uri": "https://localhost:8080/"
        },
        "id": "eM8R1mayr3OF",
        "outputId": "8634a008-eb6b-4ed3-dea2-982d3d6f851d"
      },
      "source": [
        "cmgnb = confusion_matrix(y_test,y_pred)\n",
        "cmgnb"
      ],
      "execution_count": 113,
      "outputs": [
        {
          "output_type": "execute_result",
          "data": {
            "text/plain": [
              "array([[22, 11,  0],\n",
              "       [ 8, 20,  0],\n",
              "       [ 1,  2,  0]])"
            ]
          },
          "metadata": {
            "tags": []
          },
          "execution_count": 113
        }
      ]
    },
    {
      "cell_type": "code",
      "metadata": {
        "colab": {
          "base_uri": "https://localhost:8080/",
          "height": 465
        },
        "id": "mEgfuIoVsAep",
        "outputId": "71f97302-da27-4a68-f83f-b2f3b8baed81"
      },
      "source": [
        "import seaborn as sn\n",
        "sn.set()\n",
        "plt.figure(figsize=(10,7))\n",
        "sn.heatmap(cmlr,annot=True)\n",
        "plt.xlabel('Predicted')\n",
        "plt.ylabel('Truth')"
      ],
      "execution_count": 114,
      "outputs": [
        {
          "output_type": "execute_result",
          "data": {
            "text/plain": [
              "Text(66.5, 0.5, 'Truth')"
            ]
          },
          "metadata": {
            "tags": []
          },
          "execution_count": 114
        },
        {
          "output_type": "display_data",
          "data": {
            "image/png": "[encoded data removed]",
            "text/plain": [
              "<Figure size 720x504 with 2 Axes>"
            ]
          },
          "metadata": {
            "tags": []
          }
        }
      ]
    },
    {
      "cell_type": "code",
      "metadata": {
        "id": "gs6qdfJ_mz6n"
      },
      "source": [
        "bnb = BernoulliNB()\n",
        "bnb.fit(x_train,y_train)\n",
        "y_pred = bnb.predict(x_test)"
      ],
      "execution_count": 109,
      "outputs": []
    },
    {
      "cell_type": "code",
      "metadata": {
        "colab": {
          "base_uri": "https://localhost:8080/"
        },
        "id": "Pkgna1QUnrN5",
        "outputId": "15efa183-de1b-4a07-98e9-78fb39e83be8"
      },
      "source": [
        "accuracy_score(y_test, y_pred)*100"
      ],
      "execution_count": 111,
      "outputs": [
        {
          "output_type": "execute_result",
          "data": {
            "text/plain": [
              "65.625"
            ]
          },
          "metadata": {
            "tags": []
          },
          "execution_count": 111
        }
      ]
    },
    {
      "cell_type": "code",
      "metadata": {
        "colab": {
          "base_uri": "https://localhost:8080/"
        },
        "id": "2BfY6HZEsgNv",
        "outputId": "2d0ad479-b1b5-4aa7-d4c3-99d61fb4beb7"
      },
      "source": [
        "cmbnb = confusion_matrix(y_test,y_pred)\n",
        "cmbnb"
      ],
      "execution_count": 115,
      "outputs": [
        {
          "output_type": "execute_result",
          "data": {
            "text/plain": [
              "array([[22, 11,  0],\n",
              "       [ 8, 20,  0],\n",
              "       [ 1,  2,  0]])"
            ]
          },
          "metadata": {
            "tags": []
          },
          "execution_count": 115
        }
      ]
    },
    {
      "cell_type": "code",
      "metadata": {
        "colab": {
          "base_uri": "https://localhost:8080/",
          "height": 465
        },
        "id": "9aOn9lCXn9mZ",
        "outputId": "3701e5fb-03fd-4a78-b054-8ee6b0e7ffcb"
      },
      "source": [
        "import seaborn as sn\n",
        "sn.set()\n",
        "plt.figure(figsize=(10,7))\n",
        "sn.heatmap(cmlr,annot=True)\n",
        "plt.xlabel('Predicted')\n",
        "plt.ylabel('Truth')"
      ],
      "execution_count": 116,
      "outputs": [
        {
          "output_type": "execute_result",
          "data": {
            "text/plain": [
              "Text(66.5, 0.5, 'Truth')"
            ]
          },
          "metadata": {
            "tags": []
          },
          "execution_count": 116
        },
        {
          "output_type": "display_data",
          "data": {
            "image/png": "[encoded data removed]",
            "text/plain": [
              "<Figure size 720x504 with 2 Axes>"
            ]
          },
          "metadata": {
            "tags": []
          }
        }
      ]
    },
    {
      "cell_type": "code",
      "metadata": {
        "id": "a2eG5FnkslSz"
      },
      "source": [
        ""
      ],
      "execution_count": null,
      "outputs": []
    }
  ]
}